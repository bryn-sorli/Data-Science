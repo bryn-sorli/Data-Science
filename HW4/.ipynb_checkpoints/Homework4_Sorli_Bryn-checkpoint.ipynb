{
 "cells": [
  {
   "cell_type": "markdown",
   "metadata": {},
   "source": [
    "##### <a id='top'></a>\n",
    "\n",
    "# Homework 4: Confidence intervals and other things\n",
    "***\n",
    "\n",
    "**Name**: Bryn Sorli\n",
    "\n",
    "***\n",
    "\n",
    "This assignment is due on Moodle by **11:59 PM on Friday November 8**. Your solutions to theoretical questions should be done in Markdown/MathJax directly below the associated question.  Your solutions to computational questions should include any specified Python code and results as well as written commentary on your conclusions.  Remember that you are encouraged to discuss the problems with your instructors and classmates, but **you must write all code and solutions on your own**.  \n",
    "\n",
    "**NOTES**: \n",
    "\n",
    "- Do **NOT** load or use any Python packages that are not available in Anaconda 3.6. \n",
    "- Some problems with code may be autograded.  If we provide a function API **do not** change it.  If we do not provide a function API then you're free to structure your code however you like. \n",
    "- Because you can technically evaluate notebook cells is a non-linear order, it's a good idea to do Cell $\\rightarrow$ Run All as a check before submitting your solutions.  That way if we need to run your code you will know that it will work as expected. \n",
    "- Submit only this Jupyter notebook to Moodle.  Do not compress it using tar, rar, zip, etc. \n",
    "- This should go without saying, but... For any question that asks you to calculate something, you **must show all work to receive credit**. Sparse or nonexistent work will receive sparse or nonexistent credit.\n",
    "\n",
    "---\n",
    "**Shortcuts:**  [Problem 1](#p1) | [Problem 2](#p2) | [Problem 3](#p3) | [Problem 4](#p4)\n",
    "\n",
    "---"
   ]
  },
  {
   "cell_type": "code",
   "execution_count": 14,
   "metadata": {
    "scrolled": true
   },
   "outputs": [],
   "source": [
    "import numpy as np\n",
    "import matplotlib.pyplot as plt\n",
    "import pandas as pd\n",
    "import scipy.stats as stats\n",
    "%matplotlib inline"
   ]
  },
  {
   "cell_type": "markdown",
   "metadata": {},
   "source": [
    "---\n",
    "\n",
    "<a id='p1'></a>\n",
    "[Back to top](#top)\n",
    "\n",
    "### [30 points] Problem 1 - Are sea-levels changing?\n",
    "\n",
    "You have been contacted by the local government of New York City, to assess whether there is statistical evidence for sea-level rise in the area. You obtain from the University of Hawaii Sea Level Center's [gigantic repository of sea-level data](https://uhslc.soest.hawaii.edu/data/?rq) the daily mean sea levels file (posted on Canvas).\n",
    "\n",
    "In this problem, you will:\n",
    "1. practice calculating confidence intervals, \n",
    "1. practice wrangling a real-life data set into a form where you can actually compute these confidence intervals, because life will rarely be so kind as to simply hand you a nicely packaged and cleaned set of data, and\n",
    "1. save NYC and the Statue of Liberty from a watery fate?"
   ]
  },
  {
   "cell_type": "code",
   "execution_count": 15,
   "metadata": {},
   "outputs": [
    {
     "data": {
      "text/html": [
       "<div>\n",
       "<style scoped>\n",
       "    .dataframe tbody tr th:only-of-type {\n",
       "        vertical-align: middle;\n",
       "    }\n",
       "\n",
       "    .dataframe tbody tr th {\n",
       "        vertical-align: top;\n",
       "    }\n",
       "\n",
       "    .dataframe thead th {\n",
       "        text-align: right;\n",
       "    }\n",
       "</style>\n",
       "<table border=\"1\" class=\"dataframe\">\n",
       "  <thead>\n",
       "    <tr style=\"text-align: right;\">\n",
       "      <th></th>\n",
       "      <th>Year</th>\n",
       "      <th>Month</th>\n",
       "      <th>Day</th>\n",
       "      <th>SL</th>\n",
       "    </tr>\n",
       "  </thead>\n",
       "  <tbody>\n",
       "    <tr>\n",
       "      <th>0</th>\n",
       "      <td>1920</td>\n",
       "      <td>6</td>\n",
       "      <td>2</td>\n",
       "      <td>1593</td>\n",
       "    </tr>\n",
       "    <tr>\n",
       "      <th>1</th>\n",
       "      <td>1920</td>\n",
       "      <td>6</td>\n",
       "      <td>3</td>\n",
       "      <td>1605</td>\n",
       "    </tr>\n",
       "    <tr>\n",
       "      <th>2</th>\n",
       "      <td>1920</td>\n",
       "      <td>6</td>\n",
       "      <td>4</td>\n",
       "      <td>1617</td>\n",
       "    </tr>\n",
       "    <tr>\n",
       "      <th>3</th>\n",
       "      <td>1920</td>\n",
       "      <td>6</td>\n",
       "      <td>5</td>\n",
       "      <td>1779</td>\n",
       "    </tr>\n",
       "    <tr>\n",
       "      <th>4</th>\n",
       "      <td>1920</td>\n",
       "      <td>6</td>\n",
       "      <td>6</td>\n",
       "      <td>1722</td>\n",
       "    </tr>\n",
       "    <tr>\n",
       "      <th>5</th>\n",
       "      <td>1920</td>\n",
       "      <td>6</td>\n",
       "      <td>7</td>\n",
       "      <td>1594</td>\n",
       "    </tr>\n",
       "    <tr>\n",
       "      <th>6</th>\n",
       "      <td>1920</td>\n",
       "      <td>6</td>\n",
       "      <td>8</td>\n",
       "      <td>1639</td>\n",
       "    </tr>\n",
       "    <tr>\n",
       "      <th>7</th>\n",
       "      <td>1920</td>\n",
       "      <td>6</td>\n",
       "      <td>9</td>\n",
       "      <td>1699</td>\n",
       "    </tr>\n",
       "    <tr>\n",
       "      <th>8</th>\n",
       "      <td>1920</td>\n",
       "      <td>6</td>\n",
       "      <td>10</td>\n",
       "      <td>1690</td>\n",
       "    </tr>\n",
       "    <tr>\n",
       "      <th>9</th>\n",
       "      <td>1920</td>\n",
       "      <td>6</td>\n",
       "      <td>11</td>\n",
       "      <td>1622</td>\n",
       "    </tr>\n",
       "  </tbody>\n",
       "</table>\n",
       "</div>"
      ],
      "text/plain": [
       "   Year  Month  Day    SL\n",
       "0  1920      6    2  1593\n",
       "1  1920      6    3  1605\n",
       "2  1920      6    4  1617\n",
       "3  1920      6    5  1779\n",
       "4  1920      6    6  1722\n",
       "5  1920      6    7  1594\n",
       "6  1920      6    8  1639\n",
       "7  1920      6    9  1699\n",
       "8  1920      6   10  1690\n",
       "9  1920      6   11  1622"
      ]
     },
     "execution_count": 15,
     "metadata": {},
     "output_type": "execute_result"
    }
   ],
   "source": [
    "# Local and web paths to the data; pick which works for you.\n",
    "filepath = \"sealevel_newyork.csv\"\n",
    "\n",
    "dfSL = pd.read_csv(filepath, header=None)\n",
    "dfSL.rename(columns={0 : 'Year', 1 : 'Month', 2 : 'Day', 3 : 'SL'}, inplace=True)\n",
    "dfSL.head(10)"
   ]
  },
  {
   "cell_type": "markdown",
   "metadata": {},
   "source": [
    "**Part A:**  Write a function `clean_data` to:\n",
    "1. take in a single argument of a raw sea level data frame (e.g., `dfSL` above),\n",
    "2. compute the fill-value used to replace missing sea level (SL) data (**not** hard-coded!),\n",
    "3. use the Pandas `DataFrame.dropna` method to remove all missing rows of data, \n",
    "4. select only the data point on the second day of each month, and\n",
    "4. return a cleaned Pandas data frame.\n",
    "\n",
    "Use your shiny new function to clean the `dfSL` data frame and save the results in a new data frame.\n",
    "\n",
    "There is a very specific reason to sample only one daily data point per month. We will talk about it later."
   ]
  },
  {
   "cell_type": "code",
   "execution_count": 32,
   "metadata": {},
   "outputs": [],
   "source": [
    "def clean_data(df):\n",
    "    temp = df.loc[df['SL'] <= 0]\n",
    "    fill_value = temp.median(axis = 0)\n",
    "\n",
    "    dfClean = df.replace(fill_value['SL'],np.NaN)\n",
    "    dfClean = dfClean.loc[dfClean['Day'] == 2]\n",
    "    dfClean = dfClean.dropna()\n",
    "    # your code goes here!\n",
    "    return dfClean\n",
    "dfClean = clean_data(dfSL)"
   ]
  },
  {
   "cell_type": "markdown",
   "metadata": {},
   "source": [
    "**Explanation**\n",
    "- In the cell above the fill value was determined by looking at the data and seeing which value was radically different from the other sea level values. It could also be determined by taking the median of the values less than 0. The median should be the value that occured most. We then drop the data with NaN and return the clean data frame.  "
   ]
  },
  {
   "cell_type": "code",
   "execution_count": 33,
   "metadata": {},
   "outputs": [
    {
     "name": "stdout",
     "output_type": "stream",
     "text": [
      "1003\n"
     ]
    }
   ],
   "source": [
    "n = len(dfClean)\n",
    "print(n)"
   ]
  },
  {
   "cell_type": "markdown",
   "metadata": {},
   "source": [
    "**Part B:**  Plot the cleaned time series of sea levels. Be sure to label your axes, including units. The UHSLC data portal includes a link to the metadata accompanying our data set; if you are not sure about units, that would be a good place to start looking. For the $x$-axis, place the $x$ tick marks on January 1 of each year that is divisible by 10 (i.e., 1920, 1930, ...), and label with that year. You may need to do additional processing in order to grab these indices. \n"
   ]
  },
  {
   "cell_type": "code",
   "execution_count": 34,
   "metadata": {},
   "outputs": [
    {
     "data": {
      "image/png": "[encoded data removed]",
      "text/plain": [
       "<Figure size 432x288 with 1 Axes>"
      ]
     },
     "metadata": {
      "needs_background": "light"
     },
     "output_type": "display_data"
    }
   ],
   "source": [
    "plt.scatter(dfClean['Year'], dfClean['SL'])\n",
    "plt.xticks(np.arange(min(dfClean['Year']), max(dfClean['Year'])+11, 10))\n",
    "plt.xlabel('Years')\n",
    "plt.ylabel('Sea Level(milimeters)')\n",
    "plt.show()"
   ]
  },
  {
   "cell_type": "markdown",
   "metadata": {},
   "source": [
    "**Part C:** Use your cleaned sea levels data frame to create two new Pandas data frames or series:\n",
    "1. one object to contain the sea levels between (and including) the years 1986 and 1995, and\n",
    "2. another object to contain the sea levels between (and including) the years 2006 and 2015.\n",
    "\n",
    "Then, create a single-panel figure that includes density histograms of each of the two decades of sea levels. Be sure to label everything appropriately.\n",
    "\n",
    "Finally, based on the data in front of you, formulate and state a hypothesis about how the mean sea level in the decade 2006-2015 compares to the mean sea level in the decade 1986-1995."
   ]
  },
  {
   "cell_type": "code",
   "execution_count": 35,
   "metadata": {},
   "outputs": [
    {
     "data": {
      "image/png": "[encoded data removed]",
      "text/plain": [
       "<Figure size 432x288 with 1 Axes>"
      ]
     },
     "metadata": {
      "needs_background": "light"
     },
     "output_type": "display_data"
    }
   ],
   "source": [
    "df1 = dfClean[dfClean['Year'].between(1986, 1995)]\n",
    "df2 = dfClean[dfClean['Year'].between(2006, 2015)]\n",
    "\n",
    "plt.hist(df1['SL'], alpha = .5, density = True, label = \"1986 - 1995\")\n",
    "plt.hist(df2['SL'], alpha = .5, density = True, label = \"2006 - 2015\", color = 'green')\n",
    "plt.legend()\n",
    "plt.show()"
   ]
  },
  {
   "cell_type": "markdown",
   "metadata": {},
   "source": [
    "**Solution**\n",
    "- The mean sea level in the later decade is higher than the mean sea level of the earlier decade. "
   ]
  },
  {
   "cell_type": "markdown",
   "metadata": {},
   "source": [
    "**Part D:** Compute a 99.9% confidence interval for each of (1) the mean sea level in the 1986-1995 decade ($\\mu_{1986-1995}$) and (2) the mean sea level in the 2006-2015 decade ($\\mu_{2006-2015}$).  You may use Python for arithmetic operations and executing the calculations, but the relevant steps/set-up should be displayed in Markdown/MathJax.\n",
    "\n",
    "Based on these two confidence intervals, do you think there is sufficient evidence to conclude that there is or is not a significant difference in the mean sea level between 1986-1995 and 2006-2015? Justify your answer. "
   ]
  },
  {
   "cell_type": "code",
   "execution_count": 36,
   "metadata": {},
   "outputs": [
    {
     "name": "stdout",
     "output_type": "stream",
     "text": [
      "99 percent confidence interval of 1986 - 1995  (1706.577519136256, 1788.6330071795337)\n",
      "99 percent confidence interval of 2006 - 2015 (1843.226575438307, 1915.1067578950265)\n"
     ]
    },
    {
     "name": "stderr",
     "output_type": "stream",
     "text": [
      "/Users/brynsorli/anaconda2/envs/py3/lib/python3.5/site-packages/ipykernel_launcher.py:3: DeprecationWarning: Calling np.sum(generator) is deprecated, and in the future will give a different result. Use np.sum(np.fromiter(generator)) or the python sum builtin instead.\n",
      "  This is separate from the ipykernel package so we can avoid doing imports until\n",
      "/Users/brynsorli/anaconda2/envs/py3/lib/python3.5/site-packages/ipykernel_launcher.py:8: DeprecationWarning: Calling np.sum(generator) is deprecated, and in the future will give a different result. Use np.sum(np.fromiter(generator)) or the python sum builtin instead.\n",
      "  \n"
     ]
    }
   ],
   "source": [
    "n = len(df1)\n",
    "xbar1 = np.sum(df1['SL'])/n\n",
    "svar1=np.sum((xi-xbar1)**2/(n-1) for xi in df1['SL'])\n",
    "sd=np.sqrt(svar1)\n",
    "temp1 = stats.norm.interval(.99, loc=xbar1, scale=sd/np.sqrt(n))\n",
    "n = len(df2)\n",
    "xbar2 = np.sum(df2['SL'])/n\n",
    "svar2=np.sum((xi-xbar2)**2/(n-1) for xi in df2['SL'])\n",
    "sd=np.sqrt(svar2)\n",
    "temp2 = stats.norm.interval(.99, loc=xbar2, scale=sd/np.sqrt(n))\n",
    "print(\"99 percent confidence interval of 1986 - 1995 \",temp1)\n",
    "print(\"99 percent confidence interval of 2006 - 2015\", temp2)"
   ]
  },
  {
   "cell_type": "markdown",
   "metadata": {},
   "source": [
    "**Solution** \n",
    "- The steps to calculate the confidence interval is to first calculate the mean than the variance and the z score. \n",
    "- There is evidence to suggest that there is a difference in mean sea level because the two confidence intervals do not intersect. "
   ]
  },
  {
   "cell_type": "markdown",
   "metadata": {},
   "source": [
    "**Part E:**  Compute a 99.9% confidence interval for the ***difference in mean sea level*** between the 2006-2015 and the 1986-1995 decades ($\\mu_{2006-2015} - \\mu_{1986-1995}$. Based on this, make a conclusion regarding your hypothesis from **Part C**, and compare to what your results in **Part D** implied. You may use Python for arithmetic operations and executing the calculations, but the relevant steps/set-up should be displayed in Markdown/MathJax."
   ]
  },
  {
   "cell_type": "code",
   "execution_count": 21,
   "metadata": {},
   "outputs": [
    {
     "name": "stdout",
     "output_type": "stream",
     "text": [
      "CI for difference:  78.46393754167738 194.99580271806317\n"
     ]
    }
   ],
   "source": [
    "diffmean = xbar2 - xbar1\n",
    "alpha = .01\n",
    "z = stats.norm.ppf(1-(alpha/2))\n",
    "s = np.sqrt((svar1/len(df1)) + (svar2/len(df2)))\n",
    "\n",
    "print(\"CI for difference: \", diffmean - z*s, diffmean + z*s)"
   ]
  },
  {
   "cell_type": "markdown",
   "metadata": {},
   "source": [
    "- We first calculate the difference of the two means. We then calculate the z score using stats.norm.ppf(). We then calculate the rest of the equation- \n",
    "$$ \\sqrt{\\frac{variance_1^{2}}{len(df1)} + \\frac{variance_2^{2}}{len(df2)} } $$"
   ]
  },
  {
   "cell_type": "markdown",
   "metadata": {},
   "source": [
    "**Part F:**  The confidence intervals from **Parts D** and **E** were derived using the Central Limit Theorem.  Which assumption of the Central Limit Theorem would likely be violated if we took more than one measurement per month to form our samples, and why?"
   ]
  },
  {
   "cell_type": "markdown",
   "metadata": {},
   "source": [
    "**Solution**\n",
    "- Since the Central limit theorom relies on independent variables and also on the mean of the random variables. Since adding on extra days may make it not independent but also would make it difficult to take the mean of two different dates and make it into one distribution. "
   ]
  },
  {
   "cell_type": "markdown",
   "metadata": {},
   "source": [
    "---\n",
    "\n",
    "<a id='p2'></a>\n",
    "[Back to top](#top)\n",
    "\n",
    "### [25 points] Problem 2 - Waiting for the Bus\n",
    "\n",
    "You are waiting for the bus, and are rather impatient.\n",
    "Your friend tells you that busses arrive according to an exponential distribution with parameter $\\lambda=1/10$ (busses/min) for a *mean* waiting time of 10 minutes.  You've been waiting for a while, and want to prove their hypothesis wrong: you're thinking the wait is longer than that (one-tailed).\n",
    "\t\t\n",
    "(Note: You may use the approximation $e^3\\approx20$ when applicable on this problem.  You may do calculations in Python if you wish, but all exposition should be in markdown.)\n",
    "\n",
    "**Part A:** State the null and alternative hypotheses being tested."
   ]
  },
  {
   "cell_type": "markdown",
   "metadata": {},
   "source": [
    "$$ H_0 = \\mu = 10 $$\n",
    "$$ H = \\mu > 10 $$"
   ]
  },
  {
   "cell_type": "markdown",
   "metadata": {},
   "source": [
    "**Part B:** Devise a test of the form \"reject if $X>c$\" where $c$ is how long you have to wait until the bus arrives.  Use a significance of $\\alpha= .05$.  How long do you wait before you reject the null hypothesis with a probability of type I error of 5%?"
   ]
  },
  {
   "cell_type": "code",
   "execution_count": null,
   "metadata": {},
   "outputs": [],
   "source": []
  },
  {
   "cell_type": "markdown",
   "metadata": {},
   "source": [
    "**Solution**\n",
    "- We know that the equation for an exponential function is $E[x] = \\lambda * e^{-\\lambda x}$. Using this equation we can calculate The area under this line to find the wait time in order to reject the null hypothesis. We need to solve that integral from .05 to infinity but in order to solve a more suitable integral we can do the equivalent of doing 1 - the integral from 0 to .05. \n",
    "\n",
    "$$ 1 - \\int_{0}^{.05} \\lambda e ^{-\\lambda x} $$\n",
    "\n",
    "$$ 1 - ((-e ^{-\\lambda x})\\Big|_0^.05)$$\n",
    "\n",
    "$$1 - (1-e^{-\\lambda x}) $$\n",
    "\n",
    "$$ e^{-\\lambda x} = .05 $$\n",
    "\n",
    "$$ e^{- \\frac{1}{10} x} = .05 $$\n",
    "\n",
    "$$ - \\frac{1}{10} x = ln(.05) $$\n",
    "\n",
    "$$ x = -10 * ln(.05) $$\n",
    "\n",
    "$$ x = 29.95\\ or ~ 30 $$\n",
    "\n",
    "- Therefore the c value is 30."
   ]
  },
  {
   "cell_type": "markdown",
   "metadata": {},
   "source": [
    "**Part C:** What is the power of your test if the true rate is $\\lambda=1/60$?  (NB: **Power** is defined as the complement of making a Type II Error: it's the rate at which you correctly reject a false null hypothesis)"
   ]
  },
  {
   "cell_type": "code",
   "execution_count": null,
   "metadata": {},
   "outputs": [],
   "source": []
  },
  {
   "cell_type": "markdown",
   "metadata": {},
   "source": [
    "**Solution**\n",
    "- The power with the true rate is the probability for values greater than the c value above. This is found by knowing that the complement of a type II error is the probability of a type I error \n",
    "\n",
    "$$ e^{-\\frac{1}{60}*30} $$\n",
    "\n",
    "$$ e^{-\\frac{1}{2}} $$\n",
    "\n",
    "$$ .607\\ or\\ 60.7\\% $$"
   ]
  },
  {
   "cell_type": "markdown",
   "metadata": {},
   "source": [
    "**Part D:** It turns out neither the null nor alternative are correct!  The *true* distribution of busses was a continuous uniform distribution with pdf\n",
    "$$f(x)=\\begin{cases}\n",
    "\t\t\\frac{1}{60} & 0<x<60 \\, min\\\\\n",
    "\t\t0 & else\n",
    "\t\t\\end{cases}$$\n",
    "\t\t\n",
    "What is the probability that you reject the null hypothesis?  What's different about this and how we've been discussing power/Type II error rates?"
   ]
  },
  {
   "cell_type": "code",
   "execution_count": null,
   "metadata": {},
   "outputs": [],
   "source": []
  },
  {
   "cell_type": "markdown",
   "metadata": {},
   "source": [
    "**Solution** \n",
    "- The probability of rejecting the null hypothesis would be the area of the graph greater than the c value calculated previously and less than 60. This would then be the height 1/60 times the width (60-30) = 30 giving 1/2 or 50 percent. It is different based on the fact that it doesnt deal with the underlying distribution. "
   ]
  },
  {
   "cell_type": "markdown",
   "metadata": {},
   "source": [
    "---\n",
    "\n",
    "<a id='p3'></a>\n",
    "[Back to top](#top)\n",
    "\n",
    "### [30 points] Problem 3 - Exploring Confidence Intervals \n",
    "\n",
    "The [Gumbel](https://en.wikipedia.org/wiki/Gumbel_distribution) distribution is one of several distributions frequently used to model environmental extremes (for example, extreme temperatures and sea levels).  It is also fairly asymmetric, and thus interesting for investigating confidence intervals.  It is implemented in scipy.stats as [gumbel_r](https://docs.scipy.org/doc/scipy/reference/generated/scipy.stats.gumbel_r.html), where the appendix \"\\_r\" denotes the right-skewed version of the Gumbel distribution (as opposed to the left-skewed)."
   ]
  },
  {
   "cell_type": "markdown",
   "metadata": {},
   "source": [
    "**Part A**: Complete the following code cell to plot a histogram of 100 realizations from the Gumbel distribution with parameters $\\mu=12$ and $\\beta=2$.  Be sure to leave this cell executed before turning in your assignment! Make your histogram grey with gold edges."
   ]
  },
  {
   "cell_type": "code",
   "execution_count": 22,
   "metadata": {},
   "outputs": [
    {
     "data": {
      "image/png": "[encoded data removed]",
      "text/plain": [
       "<Figure size 864x576 with 1 Axes>"
      ]
     },
     "metadata": {
      "needs_background": "light"
     },
     "output_type": "display_data"
    }
   ],
   "source": [
    "mu = 12\n",
    "beta = 3\n",
    "n_sample = 100\n",
    "x = stats.gumbel_r.rvs(loc=mu, scale=beta, size=n_sample)\n",
    "\n",
    "fig, ax = plt.subplots(nrows=1, ncols=1, figsize=(12,8))\n",
    "plt.hist(x, color=\"grey\",edgecolor=\"gold\", bins=20, density=True)\n",
    "ax.grid(alpha=0.25)\n",
    "ax.set_axisbelow(True)\n",
    "ax.set_xlabel('X')\n",
    "ax.set_ylabel('Density')\n",
    "ax.set_title(r'Gumbel($\\mu=${}, $\\beta=${})'.format(mu,beta))\n",
    "plt.xlim([0,35])\n",
    "plt.show()"
   ]
  },
  {
   "cell_type": "markdown",
   "metadata": {},
   "source": [
    "**Part B:** Look up the analytical mean and variance of the Gumbel distribution with parameters $\\mu=12$ and $\\beta=3$ and calculate them here by hand.  Note that the Euler–Mascheroni constant can be accessed via `np.euler_gamma`. \n",
    "\n",
    "Use the empirical mean from your sample in **Part A**, and the true variance of the Gumbel distribution to compute by hand a 99% confidence interval for the mean."
   ]
  },
  {
   "cell_type": "code",
   "execution_count": 23,
   "metadata": {},
   "outputs": [
    {
     "name": "stdout",
     "output_type": "stream",
     "text": [
      "The confidence internval is:  ( 13.049234369693007 ,  15.005589161906599 )\n"
     ]
    }
   ],
   "source": [
    "#print(alpha)\n",
    "alpha = 0.01\n",
    "var = np.var(x, ddof = 1)\n",
    "#print(var)\n",
    "mean = np.mean(x)\n",
    "#print(mean)\n",
    "z = stats.norm.ppf(1-(alpha/2))\n",
    "std = np.sqrt(var)/np.sqrt(n_sample)\n",
    "print(\"The confidence internval is: \", '(', mean-std*z, \", \", mean+std*z, ')')\n",
    "#print(stats.norm.interval(.01, loc=mean, scale=var))"
   ]
  },
  {
   "cell_type": "markdown",
   "metadata": {},
   "source": [
    "We can calculate the empirical mean by adding the sample mean, beta and gamma like this:\n",
    "$$ \\mu + beta*\\gamma $$\n",
    "$$ 12 + 3*\\gamma = 13.73$$\n",
    "We can also calculate the variance using a known equation:\n",
    "$$ (\\pi * beta)^{\\frac{2}{6}} = 2.14$$\n"
   ]
  },
  {
   "cell_type": "markdown",
   "metadata": {},
   "source": [
    "**Part C:  A theoretical interlude.** When Stella O'Flaherty (the famous octopus) ran her solution code for **Part B**, she obtained a 99% confidence interval of $[12.73,  14.72]$ for the mean of the $Gum(\\mu=12, \\beta=3)$ distribution. For each of the following, explain why or why not the situation described is correct, given the technical definition of a 99% confidence interval we went over in class.\n",
    "\n",
    "**(i)** If you had no other evidence regarding true mean of the $Gum(\\mu=12, \\beta=3)$ distribution, you could say there is a 99% chance that its true mean falls between 12.73 and 14.72.\n",
    "\n",
    "**(ii)** If a class of 100 students all construct 99% confidence intervals for the mean of the $Gum(\\mu=12, \\beta=3)$ distribution, then we expect about 99 of their CIs to contain the true mean, and about 1 of them to miss the true mean.\n",
    "\n",
    "**(iii)** There is a 99% probability that any given random variable sampled from $Gum(\\mu=12, \\beta=3)$ will be between 12.73 and 14.72."
   ]
  },
  {
   "cell_type": "markdown",
   "metadata": {},
   "source": [
    "**Solution**<br>\n",
    "(i) False because we are calculating the sample mean which can not tell us anything about the true mean.<br>\n",
    "(ii) True because we are discussing a sample and the means regarding the sample. Not the true mean of the population.<br>\n",
    "(iii) False this confidence interval handles means not random variables. <br>"
   ]
  },
  {
   "cell_type": "markdown",
   "metadata": {},
   "source": [
    "**Part D:** In this part you'll write a function to investigate the _coverage properties_ of a confidence interval for the mean of the Gumbel distribution. Complete the following function to randomly sample $m=500$ sample means with sample size $n=100$ for the Gumbel distribution with parameters $\\mu=12$ and $\\beta=3$.  For each random sample, compute the 75% confidence interval for the mean. Note that you actually know that the variance for the true population distribution is, $\\sigma^2$.  Your function should do two things: \n",
    "\n",
    "1. Report the proportion of confidence intervals that successfully cover the true mean of the distribution \n",
    "2. Make a plot of 50 randomly selected confidence intervals. Overlay the intervals on the line $y=\\textrm{True mean}$ (from **Part B**). Color confidence intervals black if they cover the true mean, and red if they don't.  \n",
    "\n",
    "Be sure to leave this cell executed before turning in your assignment!"
   ]
  },
  {
   "cell_type": "code",
   "execution_count": 24,
   "metadata": {},
   "outputs": [
    {
     "name": "stdout",
     "output_type": "stream",
     "text": [
      "Proportion that cover the mean: 0.752\n"
     ]
    },
    {
     "data": {
      "image/png": "[encoded data removed]",
      "text/plain": [
       "<Figure size 1080x432 with 1 Axes>"
      ]
     },
     "metadata": {
      "needs_background": "light"
     },
     "output_type": "display_data"
    }
   ],
   "source": [
    "def confidence_intervals(m=500, n=100):\n",
    "    #Your code here\n",
    "    beta = 3\n",
    "    mu = 12\n",
    "    Ex = mu + beta * np.euler_gamma\n",
    "    Vx = (np.pi*beta)**2/6\n",
    "    CIS = np.zeros((m,2))\n",
    "    zcrit = stats.norm.ppf(1-(1 - .75)/2)\n",
    "    se = np.sqrt(Vx/n)\n",
    "    ctr = 0\n",
    "    for i in range(m):\n",
    "        x = stats.gumbel_r.rvs(loc = mu, scale=beta, size = n)\n",
    "        xbar = np.mean(x)\n",
    "        L, U = xbar - zcrit*se, xbar + zcrit*se\n",
    "        CIS[i,0] = L\n",
    "        CIS[i,1] = U\n",
    "        ctr += 1 if (L<= Ex) and (Ex <= U) else 0\n",
    "    print('Proportion that cover the mean: {:.3f}'.format(ctr/m))\n",
    "    #print(CIS)\n",
    "    fig, ax = plt.subplots(nrows =1, ncols=1, figsize=(15,6))\n",
    "    count = 1\n",
    "    \n",
    "    t = CIS[np.random.choice(CIS.shape[0], 50, replace = False)]\n",
    "    for i, j in t:\n",
    "        colors = 'black' if i<=Ex and Ex <= j else 'red'\n",
    "        ax.plot([count, count], [i, j], color = colors)\n",
    "        count +=1\n",
    "    ax.plot([0, 50], [Ex, Ex], color = \"steelblue\", ls='--', lw=3)\n",
    "    ax.set_xlim([-1,51])\n",
    "    plt.xticks(range(0, 54, 5), fontsize = 12)\n",
    "confidence_intervals()"
   ]
  },
  {
   "cell_type": "markdown",
   "metadata": {},
   "source": [
    "**Part E:** Does the proportion of confidence intervals that cover the true mean of the distribution agree with the theory described in class?  Justify your conclusion. "
   ]
  },
  {
   "cell_type": "markdown",
   "metadata": {},
   "source": [
    "**Solution**\n",
    "- Yes it does becuase about 75 percent of them fall on the true mean line meaning that it is following the desired 75 percent confidence interval. This means that we can be about 75 percent confident about the mean being within the calculated intervals. "
   ]
  },
  {
   "cell_type": "markdown",
   "metadata": {},
   "source": [
    "---\n",
    "\n",
    "<a id='p4'></a>\n",
    "[Back to top](#top)\n",
    "\n",
    "### [15 points] Problem 4 - Freethrow Throwbacks\n",
    "***\n",
    "\n",
    "Keep your skills sharp by answering these straightforward questions."
   ]
  },
  {
   "cell_type": "markdown",
   "metadata": {},
   "source": [
    "**Part A**: <font color='green'>Your Michael Jordan in his prime...It's the sixth game of the 1998 NBA Finals and Byron Russel fouls you, but when you step up to take the freethrow, your transported to a CSCI 3022 classroom. Solve the following to \"make\" the freethrow:</font>\n",
    "\n",
    "You have a shuffled deck of cards. It includes the usual 52 cards and 2 Jokers. You flip over the cards one by one, without replacing them in the deck. You count how many cards you'll have to flip until you flip four of the following five cards: the six of hearts, the eight of diamonds, the king of clubs, and both of the jokers.  You repeat this many times. \n",
    "\n",
    "Simulate this process at least 25000 times. Plot a histogram with binsize=1 of the outcomes, in lightgrey with white outline. Compute the mean, median, and mode for this dataset, indicate them on the plot using a line, with linstyles of green dashed, red dotted, and black solid, respectively. Use a legend to label your histogram (of the distribution of flips), mean, median. Does this data look positively or negatively skewed? Explain below in a markdown cell, talk about the mean, median, and the shape of the histogram in your answer."
   ]
  },
  {
   "cell_type": "code",
   "execution_count": 25,
   "metadata": {},
   "outputs": [
    {
     "name": "stdout",
     "output_type": "stream",
     "text": [
      "36.66892\n"
     ]
    }
   ],
   "source": [
    "from scipy import stats\n",
    "#rank = ['A', '2', '3', '4', '5', '6', '7', '8', '9', '10', 'J', 'Q', 'K']\n",
    "#suit = ['h', 'c', 'd', 's']\n",
    "def cardrun():\n",
    "    cards = ['Ah', '2h', '3h', '4h', '5h', '6h', '7h', '8h', '9h', '10h', 'Jh', 'Qh', 'Kh', 'Ac', '2c', '3c', '4c', '5c', '6c', '7c', '8c', '9c', '10c', 'Jc', 'Qc', 'Kc', 'Ad', '2d', '3d', '4d', '5d', '6d', '7d', '8d', '9d', '10d', 'Jd', 'Qd', 'Kd', 'As', '2s', '3s', '4s', '5s', '6s', '7s', '8s', '9s', '10s', 'Js', 'Qs', 'Ks', 'j1', 'j2']\n",
    "    #for i in suit:\n",
    "    #    for j in rank:\n",
    "    #        cards.append((j + i))\n",
    "    #cards.append('j1')\n",
    "    #cards.append('j2')\n",
    "    #print(cards)\n",
    "    done = False\n",
    "    found = []\n",
    "    count = 0\n",
    "    fcount = 0\n",
    "    while fcount < 4:\n",
    "        card = np.random.choice(cards)\n",
    "        if card == '6h' or card == '8d' or card == 'Kc' or card == 'j1' or card == 'j2':\n",
    "            found.append(card)\n",
    "            fcount += 1\n",
    "        count += 1\n",
    "        cards.remove(card)\n",
    "    return count\n",
    "final = []\n",
    "for i in range(0, 25000):\n",
    "    final.append(cardrun())\n",
    "#print(final)\n",
    "print(np.mean(final))\n",
    "my_bins = range(10,60,1)\n"
   ]
  },
  {
   "cell_type": "code",
   "execution_count": 26,
   "metadata": {},
   "outputs": [
    {
     "data": {
      "image/png": "[encoded data removed]",
      "text/plain": [
       "<Figure size 432x288 with 1 Axes>"
      ]
     },
     "metadata": {
      "needs_background": "light"
     },
     "output_type": "display_data"
    }
   ],
   "source": [
    "plt.hist(final, color=\"lightgrey\",edgecolor=\"white\", bins=my_bins, density=True, alpha = .5, label = 'dist')\n",
    "plt.axvline(np.mean(final), color = 'green', linestyle = 'dashed', label = 'mean')\n",
    "plt.axvline(np.median(final), color = 'red', linestyle = 'dashed', label = 'median')\n",
    "m = stats.mode(final)\n",
    "plt.axvline(m.mode, color = 'black', label = 'mode')\n",
    "#plt.plot(np.mean(final), 'g--')\n",
    "plt.legend()\n",
    "plt.show()"
   ]
  },
  {
   "cell_type": "markdown",
   "metadata": {},
   "source": [
    "**Solution**\n",
    "- The data is negatively skewed because it has a peak on the right side. The mode will be highest because there are more values occuring at the top of the peak. This distribution looks like a chi square distribution. It also makes sense that the median > mean because it is negativly skewed. "
   ]
  },
  {
   "cell_type": "markdown",
   "metadata": {},
   "source": [
    "***\n",
    "\n",
    "**Part B**: <font color='green'> Now you're back up for another freethrow, but this time you've been transported to the third overtime of the famous [1976 NBA Finals Game Five](https://www.youtube.com/watch?v=3ZjNDvuMxzc). You line up for a freethrow, but oddly enough you're again transported back to CSCI 3022... Why does this keep happening? If you solve this problem, you make the freethrow:</font>\n",
    "\n",
    "In general, which is wider: a 95% confidence interval or a 99% confidence interval? How would you explain this to your younger sibling, who is not a statistician?"
   ]
  },
  {
   "cell_type": "markdown",
   "metadata": {},
   "source": [
    "**Solution**\n",
    "- In general we can understand that the higher the confidence interval the wider it is. It can be understood that by saying a 95% confidence interval we are showing how many values lay within that interval and since 99 is greater than 95 there will be more values under it making it wider and the area under the line larger.  "
   ]
  },
  {
   "cell_type": "markdown",
   "metadata": {
    "collapsed": true
   },
   "source": [
    "***\n",
    "\n",
    "**Part C**: <font color='green'>The crowd is silent... Because there is no crowd... And it's not a basketball game...  You're Will Smith and it's 1998. You've got an important decision to make: You've been offered the lead role in both a sci-fi flick and a steampunk western action comedy. If you make this \"freethrow\", Will Smith takes the sci-fi role and stars in \"The Matrix\" as Neo. If you fail to solve this question, Will Smith makes the blunder of turning down the \"Matrix\" to appear in \"Wild Wild West\" and history remains unchanged.\n",
    "</font>\n",
    "\n",
    "Let $X$ be a normally-distributed random variable. You draw from it and get these values, stored in the numpy array **smith**, below. These represent the probabilities of him taking the role in the matrix, calculated by differant \"statistical measures\". Compute a 95% confidence interval for the _variance_.\n"
   ]
  },
  {
   "cell_type": "code",
   "execution_count": 27,
   "metadata": {},
   "outputs": [
    {
     "name": "stdout",
     "output_type": "stream",
     "text": [
      "CI:  [0.010325318636363637, 0.0629213493890909]\n"
     ]
    }
   ],
   "source": [
    "smith = np.array([0.67832,0.113,0.423,0.279,0.580,0.401,0.189, 0.198, 0.147, 0.103, 0.098])\n",
    "alpha = 5\n",
    "variance = []\n",
    "n = 10000\n",
    "for i in range(0, n):\n",
    "    resample = np.random.choice(smith, len(smith))\n",
    "    var = np.var(resample, ddof=1)\n",
    "    variance.append(var)\n",
    "CI = [np.percentile(variance, alpha/2), np.percentile(variance, 100-alpha+alpha/2)]\n",
    "print(\"CI: \", CI)"
   ]
  },
  {
   "cell_type": "markdown",
   "metadata": {},
   "source": [
    "Using the boostrap method for variance we can find the 95% confidence interval is [.01, .06]."
   ]
  },
  {
   "cell_type": "markdown",
   "metadata": {},
   "source": [
    "\n",
    "***\n",
    "\n",
    "**Part D**: <font color='green'>Now we're back to basketball...You're Askia Booker, former CU point guard. It's the [2013 KU game](https://www.youtube.com/watch?v=-ycTB27RlEc) and your take the ball with 2.7 seconds left. To sink the three and win the game, solve the following: </font>\n",
    "\n",
    "If you're doing quality control for the average strength of carbon fiber that will be used in airplane construction, and your alternative hypothesis is that the strength of the carbon is below tolerance, and therefore unsafe, would you rather have a low Type I error rate or a low Type II error rate? Explain.\n"
   ]
  },
  {
   "cell_type": "markdown",
   "metadata": {},
   "source": [
    "**Solution** \n",
    "- I would prefer to have a low Type II error rate because that would be like stating that the tolerance level is not high enough when it in fact is actually high enough. "
   ]
  },
  {
   "cell_type": "markdown",
   "metadata": {},
   "source": [
    "\n",
    "***\n",
    "\n",
    "**Part E**: <font color='green'>Well, we haven't stopped time traveling yet.... But now we're in the soccor world. Your a striker in the [1994 Fifa World Cup Final](https://www.youtube.com/watch?v=pLPM_JSbGvI) between Brazil and Italy. Solve this problem to make a penalaty kick during the final shootout:</font>\n",
    "\n",
    "You measure 49 suckers from baby reef octopuses and find that they are, on average, 47.2 mm wide, with a standard devaition of 29.2mm. \n",
    "\n",
    "Then you measure 65 suckers from from baby dumbo octopuses and find that they are, on average, 63.9 mm wide, with a standard deviation of 19.6 mm. \n",
    "\n",
    "Is there statistical evidence at the 0.025 significance level that the true mean of baby dumbo octopus sucker width exceeds the true mean of baby reef octopus sucker width by more than 7 mm?  Use a test of your choice."
   ]
  },
  {
   "cell_type": "markdown",
   "metadata": {},
   "source": [
    "**Solution**\n",
    "- We can first define the null and alternate hypothesis <br>\n",
    "$H_0 = \\mu_d - \\mu_r = 7 $<br>\n",
    "$H_a = \\mu_d - \\mu_r > 7 $<br>\n",
    "- Test Statistic: <br>\n",
    "$$ z = \\frac{63.9 - 47.2 - 7}{\\sqrt{\\frac{19.6^{2}}{65} + \\frac{29.2^{2}}{49} }} $$\n",
    "\n",
    "$$ z = \\frac{9.7}{\\sqrt{\\frac{384.16}{65} + \\frac{852.64}{49} }} $$\n",
    "\n",
    "- z ~ 2.009 which therefore means that the p-value = 1 - stats.norm.ppf(2.009) = .022. Since the p-value is lower than our significance level of .0025 we can reject the null hypothesis. There is therefore enough evidence to say that to support that the difference of the sucker widths is greater than 7 mm. "
   ]
  },
  {
   "cell_type": "code",
   "execution_count": null,
   "metadata": {},
   "outputs": [],
   "source": []
  }
 ],
 "metadata": {
  "kernelspec": {
   "display_name": "Python 3",
   "language": "python",
   "name": "python3"
  },
  "language_info": {
   "codemirror_mode": {
    "name": "ipython",
    "version": 3
   },
   "file_extension": ".py",
   "mimetype": "text/x-python",
   "name": "python",
   "nbconvert_exporter": "python",
   "pygments_lexer": "ipython3",
   "version": "3.5.6"
  }
 },
 "nbformat": 4,
 "nbformat_minor": 2
}
