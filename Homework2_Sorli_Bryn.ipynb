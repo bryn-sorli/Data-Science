{
 "cells": [
  {
   "cell_type": "markdown",
   "metadata": {},
   "source": [
    "<a id='top'></a>\n",
    "\n",
    "# Homework 2: Introduction to Probability and Simulation\n",
    "***\n",
    "\n",
    "**Name**: Bryn Sorli\n",
    "\n",
    "***\n",
    "\n",
    "This assignment is due on Canvas by **MIDNIGHT on Friday September 27**. Your solutions to theoretical questions should be done in Markdown directly below the associated question.  Your solutions to computational questions should include any specified Python code and results as well as written commentary on your conclusions.  Remember that you are encouraged to discuss the problems with your classmates, but **you must write all code and solutions on your own**.\n",
    "\n",
    "**NOTES**: \n",
    "\n",
    "- Any relevant data sets should be available under the **Data** module on Canvas. To make life easier on the graders if they need to run your code, do not change the relative path names here. Instead, move the files around on your computer.\n",
    "- If you're not familiar with typesetting math directly into Markdown then by all means, do your work on paper first and then typeset it later.  Remember that there is a [reference guide](https://math.meta.stackexchange.com/questions/5020/mathjax-basic-tutorial-and-quick-reference) linked on Canvas on writing math in Markdown. **All** of your written commentary, justifications and mathematical work should be in Markdown.\n",
    "- Because you can technically evaluate notebook cells is a non-linear order, it's a good idea to do Kernel $\\rightarrow$ Restart & Run All as a check before submitting your solutions.  That way if we need to run your code you will know that it will work as expected. \n",
    "- It is **bad form** to make your reader interpret numerical output from your code.  If a question asks you to compute some value from the data you should show your code output **AND** write a summary of the results in Markdown directly below your code. \n",
    "- This probably goes without saying, but... For any question that asks you to calculate something, you **must show all work and justify your answers to receive credit**. Sparse or nonexistent work will receive sparse or nonexistent credit. \n",
    "\n",
    "---\n",
    "**Shortcuts:**  [Problem 1](#p1) | [Problem 2](#p2) | [Problem 3](#p3) | [Problem 4](#p4) | [Problem 5](#p5) \n",
    "\n",
    "---"
   ]
  },
  {
   "cell_type": "code",
   "execution_count": 1,
   "metadata": {},
   "outputs": [
    {
     "ename": "ImportError",
     "evalue": "Missing required dependencies ['numpy']",
     "output_type": "error",
     "traceback": [
      "\u001b[0;31m---------------------------------------------------------------------------\u001b[0m",
      "\u001b[0;31mImportError\u001b[0m                               Traceback (most recent call last)",
      "\u001b[0;32m<ipython-input-1-4256995cf3d2>\u001b[0m in \u001b[0;36m<module>\u001b[0;34m\u001b[0m\n\u001b[0;32m----> 1\u001b[0;31m \u001b[0;32mimport\u001b[0m \u001b[0mpandas\u001b[0m \u001b[0;32mas\u001b[0m \u001b[0mpd\u001b[0m\u001b[0;34m\u001b[0m\u001b[0m\n\u001b[0m\u001b[1;32m      2\u001b[0m \u001b[0;32mimport\u001b[0m \u001b[0mnumpy\u001b[0m \u001b[0;32mas\u001b[0m \u001b[0mnp\u001b[0m\u001b[0;34m\u001b[0m\u001b[0m\n\u001b[1;32m      3\u001b[0m \u001b[0;32mimport\u001b[0m \u001b[0mmatplotlib\u001b[0m\u001b[0;34m.\u001b[0m\u001b[0mpylab\u001b[0m \u001b[0;32mas\u001b[0m \u001b[0mplt\u001b[0m\u001b[0;34m\u001b[0m\u001b[0m\n\u001b[1;32m      4\u001b[0m \u001b[0mget_ipython\u001b[0m\u001b[0;34m(\u001b[0m\u001b[0;34m)\u001b[0m\u001b[0;34m.\u001b[0m\u001b[0mrun_line_magic\u001b[0m\u001b[0;34m(\u001b[0m\u001b[0;34m'matplotlib'\u001b[0m\u001b[0;34m,\u001b[0m \u001b[0;34m'inline'\u001b[0m\u001b[0;34m)\u001b[0m\u001b[0;34m\u001b[0m\u001b[0m\n",
      "\u001b[0;32m~/anaconda2/envs/py3/lib/python3.5/site-packages/pandas/__init__.py\u001b[0m in \u001b[0;36m<module>\u001b[0;34m\u001b[0m\n\u001b[1;32m     17\u001b[0m \u001b[0;32mif\u001b[0m \u001b[0mmissing_dependencies\u001b[0m\u001b[0;34m:\u001b[0m\u001b[0;34m\u001b[0m\u001b[0m\n\u001b[1;32m     18\u001b[0m     raise ImportError(\n\u001b[0;32m---> 19\u001b[0;31m         \"Missing required dependencies {0}\".format(missing_dependencies))\n\u001b[0m\u001b[1;32m     20\u001b[0m \u001b[0;32mdel\u001b[0m \u001b[0mhard_dependencies\u001b[0m\u001b[0;34m,\u001b[0m \u001b[0mdependency\u001b[0m\u001b[0;34m,\u001b[0m \u001b[0mmissing_dependencies\u001b[0m\u001b[0;34m\u001b[0m\u001b[0m\n\u001b[1;32m     21\u001b[0m \u001b[0;34m\u001b[0m\u001b[0m\n",
      "\u001b[0;31mImportError\u001b[0m: Missing required dependencies ['numpy']"
     ]
    }
   ],
   "source": [
    "import pandas as pd\n",
    "import numpy as np\n",
    "import matplotlib.pylab as plt\n",
    "%matplotlib inline"
   ]
  },
  {
   "cell_type": "markdown",
   "metadata": {},
   "source": [
    "***\n",
    "<a/ id='p1'></a>\n",
    "[Back to top](#top)\n",
    "\n",
    "### [20 points] Problem 1\n",
    "\n",
    "To play a game, you have a bag containing 30 fair six-sided dice, with faces `{1,2,3,4,5,6}`.  <img style=\"float: right; width: 200px; padding: 3mm;\" src=\"https://images-na.ssl-images-amazon.com/images/I/619NZnvxJaL._SX425_.jpg\" alt=\"Drawing\"/>\n",
    "This bag also contains 17 fair eight-sided dice (faces `{1,2,3,4,5,6,7,8}`) and 3 fair twenty-sided dice (faces `{1,2,3,4,...,19,20}`).  Call these 3 classes of die \"Six\", \"Eight\" and \"Twenty\" (or S, E, and T, for short). In order to be sure that you are not distinguishing dice by their feel, you are required to wear crab claw gloves. After donning your gloves, you grab one die at random from the bag. \n",
    "\n",
    "Work the following problems by hand (or claw) unless otherwise stated (but don't be afraid to simulate to check your result!). "
   ]
  },
  {
   "cell_type": "markdown",
   "metadata": {},
   "source": [
    "**Part A**: You roll your die one time.  What is the probability of the event $R_7$, that you roll a 7?  Include at least 4 decimal places in your answer."
   ]
  },
  {
   "cell_type": "markdown",
   "metadata": {},
   "source": [
    "**Solution**<br>\n",
    "$P(8) = \\frac{17}{50}$<br>\n",
    "$P(20) = \\frac{3}{50}$<br>\n",
    "$P(7|8) = \\frac{1}{8}$<br>\n",
    "$P(7|20) = \\frac{1}{20}$<br>\n",
    "$R_7 = \\frac{17}{50}*\\frac{1}{8} + \\frac{3}{50}*\\frac{1}{20} = .0455$<br>"
   ]
  },
  {
   "cell_type": "markdown",
   "metadata": {},
   "source": [
    "**Part B**: Suppose you roll a 7.  What is the probability that the die you chose from the bag is an Eight-sided die? "
   ]
  },
  {
   "cell_type": "markdown",
   "metadata": {},
   "source": [
    "**Solution**<br>\n",
    "$P(E) = \\frac{17}{50}$<br>\n",
    "$P(T) = \\frac{3}{50}$<br>\n",
    "$P(R_7|E) = \\frac{1}{8}$<br>\n",
    "$P(R_7|T) = \\frac{1}{20}$<br>\n",
    "$P(E|R_7) = \\frac{P(R_7|E)*P(E)}{P(R_7)} => \\frac{\\frac{1}{8}*\\frac{17}{50}}{.0455} = .9341$"
   ]
  },
  {
   "cell_type": "markdown",
   "metadata": {},
   "source": [
    "**Part C:**  Are the events $R_7$ and $E$ independent?  Justify your answer **using math**."
   ]
  },
  {
   "cell_type": "markdown",
   "metadata": {},
   "source": [
    "**Solution**\n",
    "They are not independent since P(${R_7}$|E) does not equal P($R_7$). This is shown in the math above where P($R_7$|E) = $\\frac{1}{8}$ but P($R_7$) = .0455. \n"
   ]
  },
  {
   "cell_type": "markdown",
   "metadata": {},
   "source": [
    "**Part D:**  Suppose you roll your die $n$ times and record each outcome.  Obviously, if you roll 7 or 8 you know you did *not* pick a Six-sided die, and if you roll a 9 or higher, you must have picked a Twenty-sided die.\n",
    "\n",
    "But, if you roll $n$ times in a row and get only 1, 2, 3, 4, 5, or 6 you would have a stronger belief that you in fact grabbed one of the Six-sided dice.  Let $L_n$ be the event that you roll $n$ rolls of 1, 2, 3, 4, 5, or 6 in a row.  For example, one outcome in $L_3$ is the sequence 2, 3, 1.\n",
    "\n",
    "Given that you roll a single value of 1, 2, 3, 4, 5, or 6, what is the probability that you have grabbed a Six-sided die?  That is, calculate **by hand** $P(S \\mid L_1)$."
   ]
  },
  {
   "cell_type": "markdown",
   "metadata": {},
   "source": [
    "$P(S \\mid L_1)$ = $\\frac{P(L_1 \\mid S)*P(S)}{P(L_1}$<br>\n",
    "$P(L_1 \\mid S) = 1$<br>\n",
    "$P(S) = \\frac{30}{50}$<br>\n",
    "$P(L_1) = 1*\\frac{30}{50} + \\frac{6}{8}*\\frac{17}{50} + \\frac{6}{20}*\\frac{3}{50} = .873$<br>\n",
    "$\\frac{\\frac{30}{50}}{.873} = .68275$"
   ]
  },
  {
   "cell_type": "code",
   "execution_count": null,
   "metadata": {},
   "outputs": [],
   "source": []
  },
  {
   "cell_type": "markdown",
   "metadata": {},
   "source": [
    "**Part E**:  \n",
    "\n",
    "First, work out **by hand** a formula for the probability in general that you are rolling a Six-sided die, given that you have rolled $n$ values in a row that are 1, 2, 3, 4, 5 or 6 (that is, $L_n$).  So you want a formula for $P(S \\mid L_n)$ in terms of $n$.\n",
    "\n",
    "Then, define a function `prob_six` to calculate $P(S \\mid L_n)$.  This function should only take one positive integer argument, $n$.\n",
    "\n",
    "Verify that your function is performing as expected by checking your answer to **Part D**."
   ]
  },
  {
   "cell_type": "markdown",
   "metadata": {},
   "source": [
    "$P(S \\mid L_n)$ = $\\frac{P(L_n \\mid S)*P(S)}{P(L_n}$<br>\n",
    "$P(L_n \\mid S) = 1$<br>\n",
    "$P(S) = \\frac{30}{50}$<br>\n",
    "$P(L_n) = (1)^n*\\frac{30}{50} + (\\frac{6}{8})^n*\\frac{17}{50} + (\\frac{6}{20})^n*\\frac{3}{50}$<br>"
   ]
  },
  {
   "cell_type": "code",
   "execution_count": 46,
   "metadata": {},
   "outputs": [
    {
     "name": "stdout",
     "output_type": "stream",
     "text": [
      "('Part D: ', 0.6872852233676976)\n"
     ]
    }
   ],
   "source": [
    "def prob_six(n): #Your code goes here.\n",
    "    return(0.6/((.6)+((.75**n)*(.34))+(((.3)**n)*.06)))\n",
    "               \n",
    "print(\"Part D: \", prob_six(1))\n",
    "#print(prob_six(80))"
   ]
  },
  {
   "cell_type": "markdown",
   "metadata": {},
   "source": [
    "**Code**\n",
    "- This code uses bayes theorem as well as the law of total probability to calculate the mean for Ln"
   ]
  },
  {
   "cell_type": "markdown",
   "metadata": {},
   "source": [
    "**Part F:**  What is the smallest value of $n$ successive rolls of 1, 2, 3, 4, 5 or 6 that would make you believe that there's a better-than-95% chance that the die you grabbed is Six-sided?  Plugging larger and larger values for $n$ into your `prob_six` function is a very reasonable way to check this."
   ]
  },
  {
   "cell_type": "code",
   "execution_count": 47,
   "metadata": {},
   "outputs": [
    {
     "name": "stdout",
     "output_type": "stream",
     "text": [
      "('Smallest value: ', 9)\n"
     ]
    }
   ],
   "source": [
    "for i in range(100):\n",
    "    x = prob_six(i)\n",
    "    if(x >= .95):\n",
    "        print(\"Smallest value: \" , i)\n",
    "        break"
   ]
  },
  {
   "cell_type": "markdown",
   "metadata": {},
   "source": [
    "**Code**\n",
    "This code will loop through values until it determines a probability that is greater than .95 and then returns that value. "
   ]
  },
  {
   "cell_type": "markdown",
   "metadata": {},
   "source": [
    "***\n",
    "<a id='p2'></a>\n",
    "[Back to top](#top)\n",
    "\n",
    "\n",
    "### [20 points] Problem 2\n",
    "\n",
    "Oscar and Stella are two octopuses who are very excited to have both secured professorships in the Computer Science department at CU. They work hard, but they also like to blow off a little steam after work. When they leave work from the CU Engineering Center ($E~$), they each head for one of five other locations: the Gym to get strong ($G~$), the Library to get learned ($L~$), the Boulder Reservoir to have a nice swim ($R$), the Hill to have a sandwich ($H~$), or to Brewing Market to have a nice Coffee ($C~$).  \n",
    "\n",
    "Here are some rules governing their movements throughout the fair city of Boulder:\n",
    "* When Oscar and/or Stella is leaving one location, they randomly select one of the available adjacent locations, with equal probability.\n",
    "* This includes back-tracking. Eg. Stella could go from the Engineering Center to the Library, then directly back to the Engineering Center. \n",
    "* Assume that all moves require the same amount of time.\n",
    "* They are also not allowed to stay put; they always must move to some *other* adjacent location.\n",
    "* Oscar and Stella, being the think-for-yourselfers that they are, also act **independently** of one another. That is, the probability that Oscar goes from one place to another is independent of the probability of Stella's movements.\n",
    "\n",
    "<img src=\"http://www.cs.colorado.edu/~tonyewong/home/resources/chris_and_dan_statespace.png\" style=\"width: 300px;\"/>"
   ]
  },
  {
   "cell_type": "markdown",
   "metadata": {},
   "source": [
    "**Part A**: Oscar is exhausted from a long day of researching whether [P=NP](https://en.wikipedia.org/wiki/P_versus_NP_problem) so, naturally, he wants to go to the brewing market to grab a coffee. That being said, Osacar has made a break through in his research and wants to follow up on it at the library, but he needs to run some errands too. Assume Oscar can do his errands at any location on the map. \n",
    "\n",
    "Compute by hand the probability that Oscar goes to the Brewing Market ($C$) in his first stop, makes a second stop at any location, then goes to the Library ($L$) third. "
   ]
  },
  {
   "cell_type": "markdown",
   "metadata": {},
   "source": [
    "P(C->Any->L) = P(C) * (P(H->L)+P(E->L)<br>\n",
    "$P(C) = \\frac{1}{4}$<br>\n",
    "$P(H->L) = \\frac{1}{3}*\\frac{1}{3}$<br>\n",
    "$P(E->L) = \\frac{1}{3}*\\frac{1}{4}$<br>\n",
    "$P(C->Any->L) = \\frac{1}{4}* (\\frac{1}{9} + \\frac{1}{12}) = .04861$"
   ]
  },
  {
   "cell_type": "markdown",
   "metadata": {},
   "source": [
    "**Part B**: Stella is a competitive body-building octopus professor. This is quite the feat given her lack of bones!  Compute (by hand) the probability that Stella ends up at the Gym _either_ as her first _or_ second location visited after leaving the Engineering Center ($E$). (Again, assume that Stella wanders the streets of Boulder randomly using the same rules described above.)"
   ]
  },
  {
   "cell_type": "markdown",
   "metadata": {},
   "source": [
    "**Solution**<br>\n",
    "P(E->G) = P(first)(p(f)) or P(second)(p(s))<br>\n",
    "$P(f) = \\frac{1}{4}$<br>\n",
    "$P(s) = P(L->G) or P(R->G)$<br>\n",
    "$P(S) = \\frac{1}{4}*\\frac{1}{4} + \\frac{1}{4}*\\frac{1}{2}$<br>\n",
    "$P(E->G) = (\\frac{1}{4} + \\frac{3}{16}) = .4375$"
   ]
  },
  {
   "cell_type": "markdown",
   "metadata": {},
   "source": [
    "**Part C**: Suppose that Stella works late at the Engineering Center, while Oscar goes to the Gym.  Later, they both leave and wander around, randomly and independently of one another, as described above.\n",
    "1. What is the probability that they run into each other in the same location on the first location visited?  \n",
    "2. Given their two initial locations, what is the probability that they meet at the Hill after 2 moves?"
   ]
  },
  {
   "cell_type": "markdown",
   "metadata": {},
   "source": [
    "**Solution**<br>\n",
    "Part 1.<br>\n",
    "$$\n",
    "P(meeting in one move) = P(L) + P(R)\n",
    "$$\n",
    "$$\n",
    "P(L) = \\frac{1}{4}*\\frac{1}{4} = \\frac{1}{16}\n",
    "$$\n",
    "$$\n",
    "P(R) = \\frac{1}{4}*\\frac{1}{4} = \\frac{1}{16}\n",
    "$$\n",
    "$$\n",
    "=> \\frac{1}{16}*\\frac{1}{16} = \\frac{1}{8} = .125\n",
    "$$\n",
    "Part 2.<br>\n",
    "$$P(2 moves to hill) = P(S@H) + P(O@H)\n",
    "$$\n",
    "$$\n",
    "P(S@H) = \\frac{1}{4}*\\frac{1}{3} + \\frac{1}{4}*\\frac{1}{4} + \\frac{1}{4}*\\frac{1}{4} = \\frac{5}{24}\n",
    "$$\n",
    "$$\n",
    "P(O@H) = \\frac{1}{4}*\\frac{1}{4} = \\frac{1}{16}\n",
    "$$\n",
    "$$\n",
    "=> \\frac{5}{384} = .01302\n",
    "$$"
   ]
  },
  {
   "cell_type": "markdown",
   "metadata": {},
   "source": [
    "**Part D**: Write a simulation to confirm that your by-hand calculations in **Part A**, **Part B**, and **Part C** are correct. Make sure you run your simulations for enough trials that your estimates are reasonably close to your analytic results. In addition to showing your code, you should explain in Markdown (not just in code comments) what your code is doing and why it is a reasonable approximation of the probabilities in **Part A**, **Part B**, and **Part C**.  "
   ]
  },
  {
   "cell_type": "code",
   "execution_count": 48,
   "metadata": {},
   "outputs": [
    {
     "name": "stdout",
     "output_type": "stream",
     "text": [
      "0.0454\n"
     ]
    }
   ],
   "source": [
    "E = ['C','L','G','R']\n",
    "R = ['G', 'E']\n",
    "G = ['H','L','E','R']\n",
    "H = ['C','L','G']\n",
    "C = ['H','L','E']\n",
    "L = ['G','H','C','E']\n",
    "count = 0\n",
    "tcount = 10000\n",
    "for i in range(10000):\n",
    "    f = np.random.choice(E)\n",
    "    if f == 'C':\n",
    "        s = np.random.choice(C)\n",
    "        if s == 'H':\n",
    "            t = np.random.choice(H)\n",
    "        elif s == 'E':\n",
    "            t = np.random.choice(E)\n",
    "        else:\n",
    "            continue\n",
    "        #print(s)\n",
    "        #t = np.random.choice(s)\n",
    "        if t == 'L':\n",
    "            count += 1\n",
    "print(count/tcount)"
   ]
  },
  {
   "cell_type": "markdown",
   "metadata": {},
   "source": [
    "This code will run through 10000 cases and find the cases where Oscar went to the coffee and ended up in the library. The value is very similar to the calculated value above and is therefore a reasonable approximation. "
   ]
  },
  {
   "cell_type": "code",
   "execution_count": 49,
   "metadata": {},
   "outputs": [
    {
     "name": "stdout",
     "output_type": "stream",
     "text": [
      "4278\n",
      "0.4278\n"
     ]
    }
   ],
   "source": [
    "count = 0\n",
    "for i in range(10000):\n",
    "    first = np.random.choice(E)\n",
    "    if first == 'G':\n",
    "        count += 1\n",
    "        #print('H')\n",
    "    else:\n",
    "        if first == 'R':\n",
    "            sec = np.random.choice(R)\n",
    "            if sec == 'G':\n",
    "                count += 1\n",
    "                #print('H')\n",
    "        elif first == 'L':\n",
    "            sec = np.random.choice(L)\n",
    "            if sec == 'G':\n",
    "                count += 1\n",
    "                #print('H')\n",
    "        else:\n",
    "            continue\n",
    "print(count)\n",
    "print(count/tcount)"
   ]
  },
  {
   "cell_type": "markdown",
   "metadata": {},
   "source": [
    "Just like the code above this code will run 10000 cases and will first check to see if the gym was the first choice then will check if G was the second choice. This is very similar to the calculated value above. "
   ]
  },
  {
   "cell_type": "code",
   "execution_count": 50,
   "metadata": {},
   "outputs": [
    {
     "name": "stdout",
     "output_type": "stream",
     "text": [
      "part 1:\n",
      "2530\n",
      "0.1253\n",
      "part 2: \n",
      "0.253\n"
     ]
    }
   ],
   "source": [
    "print('part 1:')\n",
    "count1 = count = 0\n",
    "for i in range(10000):\n",
    "    S = np.random.choice(E)\n",
    "    O = np.random.choice(G)\n",
    "    #print(S, \"  \", O)\n",
    "    if S == O:\n",
    "        count1 += 1\n",
    "    if S == 'G':\n",
    "        #print('part 2: ')\n",
    "        temp = np.random.choice(G)\n",
    "    if S == 'R':\n",
    "        #print('part 3: ')\n",
    "        temp = np.random.choice(R)\n",
    "    if S == 'L':\n",
    "        #print('part 4: ')\n",
    "        temp = np.random.choice(L)\n",
    "    if S == 'C':\n",
    "        #print('part 5: ')\n",
    "        temp = np.random.choice(C)\n",
    "    if O == 'H':\n",
    "        #print('part 6: ')\n",
    "        temp1 = np.random.choice(H)\n",
    "    if S == 'R':\n",
    "        #print('part 7: ')\n",
    "        temp1 = np.random.choice(R)\n",
    "    if S == 'L':\n",
    "        #print('part 8: ')\n",
    "        temp1 = np.random.choice(L)\n",
    "    if S == 'E':\n",
    "        #print('part 9: ')\n",
    "        temp1 = np.random.choice(E)\n",
    "    if temp1 == temp:\n",
    "        count += 1\n",
    "    \n",
    "print(count)\n",
    "print(count1/tcount)\n",
    "print('part 2: ')\n",
    "print(count/tcount)\n"
   ]
  },
  {
   "cell_type": "markdown",
   "metadata": {},
   "source": [
    "This code gives a realistic value for Part 1 using the same random selection processes as well as an iteration through 10000 cases. Part 2 is not as close but follows the same coding pattern as the previous questions. "
   ]
  },
  {
   "cell_type": "markdown",
   "metadata": {},
   "source": [
    "***\n",
    "<a/ id='p3'></a>\n",
    "[Back to top](#top)\n",
    "\n",
    "### [20 points] Problem 3  \n",
    "\n",
    "As part of their Computer Science Jedi training, Zach and Rachel are having a lightsaber duel. The rules of the lightsaber duel are as follows:\n",
    "* The duel is composed of a number of rounds.\n",
    "* Each round consists of Zach practicing his sweetest Jedi moves and trying to strike Rachel, then Rachel practicing *her* best moves and trying to strike Zach.\n",
    "* If Zach manages to strike Rachel, then Zach is awarded a point, and similarly if Rachel manages to strike Zach, then Rachel is awarded a point.\n",
    "* If a round ends in a tie, then Zach and Rachel proceed to another round. If a round ends with one Jedi scoring a point but the other one does not, then the Jedi who scored a point wins the duel.\n",
    "\n",
    "Let $Z$ be the event that \"Zach wins the duel\", $E$ be the event that \"the duel ends after the first round of lightsaber strikes\", and $C$ be the event that \"the duel continues after the first round of lightsaber strikes\".  Suppose that the result of one lightsaber strike is independent of the other strikes, Zach successfully lands his lightsaber strikes with probability $p$, and Rachel lands her strikes with probability $q$.\n",
    "\n",
    "**Part A**: The duel will continue until Zach or Rachel wins.  What is the sample space $\\Omega$ for this \"experiment\"?  Represent the outcomes of individual lightsaber strikes by $H$ for a hit and $M$ for a miss, and assume that Zach has the first strike in each round. At the very least, your answer should include all of the events in $\\Omega$ that include one or two rounds."
   ]
  },
  {
   "cell_type": "markdown",
   "metadata": {},
   "source": [
    " $\\Omega$ = $[HM, MH, MM, HH]$"
   ]
  },
  {
   "cell_type": "markdown",
   "metadata": {},
   "source": [
    "**Part B**: Determine $P(Z \\mid E)$ in terms of $p$ and $q$."
   ]
  },
  {
   "cell_type": "markdown",
   "metadata": {},
   "source": [
    "$$P(Z|E) = \\frac{P(E|Z)*P(Z)}{P(E)}$$\n",
    "$$P(E|Z) = 1$$\n",
    "$$P(Z) = p(1-q)$$\n",
    "$$P(E) = p(1-q) + (1-p)q$$\n",
    "$$P(Z|E) = \\frac{1*p(1-q)}{p(1-q) + (1-p)q}$$\n",
    "$$P(Z|E) = \\frac{p(1-q)}{p(1-q) + (1-p)q}$$"
   ]
  },
  {
   "cell_type": "markdown",
   "metadata": {},
   "source": [
    "**Part C**: Explain why events $C$ and $Z$ are independent. "
   ]
  },
  {
   "cell_type": "markdown",
   "metadata": {},
   "source": [
    "**Solution**<br>\n",
    "Events C and Z are independent if they follow the rule, $P(Z \\mid C) = P(Z)$. This equality makes sense because it is not necesarliy true that Zach one given the cometition ended after round 1. There is an equal chance for either to win the duel. "
   ]
  },
  {
   "cell_type": "markdown",
   "metadata": {},
   "source": [
    "**Part D**: Use the Law of Total Probability to show that $P(Z) = p(1-q) + (2pq - p - q +1) ~P(Z \\mid C)$. "
   ]
  },
  {
   "cell_type": "markdown",
   "metadata": {},
   "source": [
    "**Solution**<br>\n",
    "Using the law of total probability we can see that P(Z) = P(Z|E)P(E) + P(Z|C)P(C)<br>\n",
    "$$P(Z) = \\frac{P(Z\\cap E)(P(E))}{P(E)} + [(1-p)(1-q) + pq] P(Z\\mid C)$$\n",
    "$$P(Z) = P(Z\\cap E) + [(1-p)(1-q) + pq] P(Z\\mid C)$$\n",
    "$$P(Z\\cap E) = p(1-q)$$\n",
    "$$P(Z) = p(1-q) + [1-p-q + 2pq] P(Z\\mid C)$$"
   ]
  },
  {
   "cell_type": "markdown",
   "metadata": {},
   "source": [
    "**Part E**: Use the fact from **Part B** that $P(Z \\mid C) = P(Z)$ to determine $P(Z)$ in terms of $p$ and $q$."
   ]
  },
  {
   "cell_type": "markdown",
   "metadata": {},
   "source": [
    "**Solution**\n",
    "$$P(Z\\mid C) = P(Z) $$\n",
    "$$P(Z) - [2pq-p-q +1] P(Z) = p(1-q)$$\n",
    "$$P(Z)(1 - 2pq+ p +q -1) = p(1-q)$$\n",
    "$$P(Z)(2pq+ p +q) = p(1-q)$$\n",
    "$$P(Z) = \\frac{p(1-q)}{(2pq+ p +q)}$$\n",
    "$$P(Z) = \\frac{p(1-q)}{p(1-q) + (1-p)q}$$"
   ]
  },
  {
   "cell_type": "markdown",
   "metadata": {},
   "source": [
    "**Part F**: Explain why the answers to **Part B** and **Part E** are the same. "
   ]
  },
  {
   "cell_type": "markdown",
   "metadata": {},
   "source": [
    "**Solution**\n",
    "- It could be said that the events E and C are independent of each other therefore they would have no effect on each others outcomes. Yeilding the same result. "
   ]
  },
  {
   "cell_type": "markdown",
   "metadata": {},
   "source": [
    "**Part G**: Explain the significance of the solution technique for $P(Z)$ outlined in **Part D** and **Part E**.  Why did we go this route instead of computing $P(Z)$ directly?  Can we always use such techniques?  What assumption did we need to make in order to use this solution approach?"
   ]
  },
  {
   "cell_type": "markdown",
   "metadata": {},
   "source": [
    "**Solution**\n",
    "- The technique we used was the law of total probability which was crucial as it allowed us to deal with the infinite cases of duels. This is the same reasoning behind why computation was flawed as it can not handle the nearly infinite possibilty of rounds. Our main assumption was that the events have to be independent which they were. This is what would prevent using this law as not all events are independent for other calculations. "
   ]
  },
  {
   "cell_type": "markdown",
   "metadata": {},
   "source": [
    "***\n",
    "<a id='p4'></a>\n",
    "[Back to top](#top)\n",
    "\n",
    "### [25 points] Problem 4\n",
    "\n",
    "In this problem you will write some code to simulate the game of **Miniopoly** (a very rough approximation of [Monopoly](https://en.wikipedia.org/wiki/Monopoly_(game)).  The game consists of a round board with 40 \"squares\" numbered from $0$ to $39$, where squares $0$ and would-be $40$ are [coincident](https://en.wikipedia.org/wiki/Coincident) and called **GO**.  A player starts on **GO** with \\\\$200 in their pocket.  On each turn the player rolls a pair of dice and then moves a number of spaces equal to the sum of the dice.  Landing on different squares have different results: \n",
    "\n",
    "- Squares 3, 7, 15, 22, 33, and 36 cause you to draw a card.  The cards tell you to collect either \\\\$50 or \\\\$250 or pay the bank \\\\$50.  There is always an equal probability associated with each of these possible cards.\n",
    "\n",
    "\n",
    "- Squares 0, 10, and 20 do not trigger any action \n",
    "\n",
    "\n",
    "- Square 30 is **Go To Jail**, which sends the player directly to **Jail** and ends the turn \n",
    "\n",
    "- If a player starts a turn from **Jail** she rolls two dice: \n",
    "\n",
    "    - If the player rolls doubles (i.e. the dice have equal values) the player moves from Square 10 a number of squares equal to the sum of the dice\n",
    "    \n",
    "    - If the player rolls anything other than doubles she pays the bank \\$20 and remains in **Jail** \n",
    "    \n",
    "\n",
    "- If the player passes or lands on **GO** she collects \\$200. \n",
    "\n",
    "- If the player lands on any other square not mentioned above, she pays the bank \\$25. \n",
    "\n",
    "\n",
    "If at any point the player has \\$0 or less they go bankrupt and the game ends.\n",
    "\n",
    "See [here](http://www.cs.colorado.edu/~tonyewong/home/resources/miniopoly_example.png) for an example of the Miniopoly board layout.\n",
    "\n",
    "<br>\n",
    "\n",
    "**Part A**: Complete the function miniopoly_turn below. The function should simulate one turn of Miniopoly.  It should take as arguments the player's current location on the board as well as the player's current cash reserves, and return the player's new location and cash reserves after the turn has completed. Note that if a player goes bankrupt during the game you should return their cash as 0 instead of a negative value.  "
   ]
  },
  {
   "cell_type": "code",
   "execution_count": 51,
   "metadata": {},
   "outputs": [],
   "source": [
    "def miniopoly_turn(state, cash):\n",
    "    dice1 = np.random.randint(1,7)\n",
    "    dice2 = np.random.randint(1,7)\n",
    "    if state == 30:\n",
    "        if dice1 == dice2:\n",
    "            nstate = 10 + (dice1+dice2)\n",
    "        else:\n",
    "            cash = cash - 20\n",
    "            return state, cash\n",
    "    else:    \n",
    "        dicet = dice1 + dice2\n",
    "        nstate = state + dicet\n",
    "    if nstate > 39:\n",
    "        nstate = nstate - 40\n",
    "        cash = cash + 200\n",
    "    if nstate == 3 or nstate == 7 or nstate == 15 or nstate == 22 or nstate == 33 or nstate == 36:\n",
    "        cashL = [50, 250, -50]\n",
    "        casht = np.random.choice(cashL)\n",
    "        cash = cash + casht\n",
    "    elif nstate == 0 or nstate == 10 or nstate == 20:\n",
    "        return nstate, cash\n",
    "    elif nstate == 30:\n",
    "        return nstate, cash\n",
    "    else:\n",
    "        cash = cash - 25\n",
    "    \n",
    "    return nstate, cash\n",
    "\n"
   ]
  },
  {
   "cell_type": "markdown",
   "metadata": {},
   "source": [
    "This code implements the desired function with the desired paramters. "
   ]
  },
  {
   "cell_type": "markdown",
   "metadata": {},
   "source": [
    "**Part B**: Use your function from **Part A** to Simulate at least 10000 25-turn games of Miniopoly and make a frequency histogram of the player's cash at the end of the game."
   ]
  },
  {
   "cell_type": "code",
   "execution_count": 52,
   "metadata": {},
   "outputs": [
    {
     "name": "stdout",
     "output_type": "stream",
     "text": [
      "10000\n",
      "10868\n"
     ]
    }
   ],
   "source": [
    "import matplotlib.pylab as plt\n",
    "p1 = np.empty([1,10])\n",
    "tgames = 0\n",
    "count = 0\n",
    "while tgames < 10000:\n",
    "    count = count + 1\n",
    "    p1s = 0\n",
    "    p1c = 200\n",
    "    viable = 1\n",
    "    turn = 0\n",
    "    while p1c > 0 and turn <= 25:\n",
    "        p1s, p1c = miniopoly_turn(p1s, p1c)\n",
    "        if p1c < 0:\n",
    "            viable = 0\n",
    "            p1c = 0\n",
    "            break\n",
    "        turn += 1\n",
    "    if viable == 1:\n",
    "        tgames += 1\n",
    "    p1 = np.append(p1, p1c)\n",
    "print(tgames)\n",
    "print(count)"
   ]
  },
  {
   "cell_type": "markdown",
   "metadata": {},
   "source": [
    "This code just calls the miniopoly function 10000 times for 25 turn games. If a player goes bankrupt the game will stop for the player. "
   ]
  },
  {
   "cell_type": "code",
   "execution_count": 53,
   "metadata": {},
   "outputs": [
    {
     "data": {
      "image/png": "[encoded data removed]",
      "text/plain": [
       "<matplotlib.figure.Figure at 0x110655a50>"
      ]
     },
     "metadata": {},
     "output_type": "display_data"
    }
   ],
   "source": [
    "my_bins = range(0,2500,200)\n",
    "plt.hist(p1, my_bins, alpha = 0.5)\n",
    "plt.show()"
   ]
  },
  {
   "cell_type": "markdown",
   "metadata": {},
   "source": [
    "**Part C**: Use your code from **Part A** to estimate the probability that a player goes bankrupt in a game that only lasts 25 turns."
   ]
  },
  {
   "cell_type": "code",
   "execution_count": 54,
   "metadata": {},
   "outputs": [
    {
     "name": "stdout",
     "output_type": "stream",
     "text": [
      "1037\n",
      "10000\n",
      "('Probability player goes bankrupt for a 25 or less turn game: ', 0.1037)\n"
     ]
    }
   ],
   "source": [
    "#About 10%\n",
    "from __future__ import division\n",
    "bcount = 0\n",
    "count = 0\n",
    "for i in range(10000):\n",
    "    count+= 1\n",
    "    p1s = 0\n",
    "    p1c = 200\n",
    "    for i in range(25):\n",
    "        p1s, p1c = miniopoly_turn(p1s, p1c)\n",
    "        if p1c < 0:\n",
    "            p1c = 0\n",
    "            bcount+=1\n",
    "            break\n",
    "print(bcount)\n",
    "print(count)\n",
    "#print(float(bcount/count))\n",
    "Pb = float(bcount/count)\n",
    "print('Probability player goes bankrupt for a 25 or less turn game: ', float(bcount/count))"
   ]
  },
  {
   "cell_type": "markdown",
   "metadata": {},
   "source": [
    "This code just calculates how many players go bankrupt in a 25 turn game then divides it by the total number of games, 10000. "
   ]
  },
  {
   "cell_type": "markdown",
   "metadata": {},
   "source": [
    "**Part D**: Use your code from **Part A** to estimate the probability that a player goes bankrupt in a 25 turn game  _given_ that they went to **Jail** at least twice.  Is a player more or less likely to go bankrupt if they've been to **Jail** twice?  "
   ]
  },
  {
   "cell_type": "markdown",
   "metadata": {},
   "source": [
    "A player is actually less likely to go bankrupt if they have gone to jail twice. The code below will iterate 10000 times and find the cases where a player has been on jail for more than 2 turns and then will see if they are bankrupt. If so it adds 1 to the count. "
   ]
  },
  {
   "cell_type": "code",
   "execution_count": 55,
   "metadata": {},
   "outputs": [
    {
     "name": "stdout",
     "output_type": "stream",
     "text": [
      "10000\n",
      "('Probability player goes bankrupt after going to jail twice: ', 0.0536)\n"
     ]
    }
   ],
   "source": [
    "#Estimate probability of going bankrupt given jail at least twice.\n",
    "bcount = 0\n",
    "count = 0\n",
    "for i in range(10000):\n",
    "    count+= 1\n",
    "    jtime = 0\n",
    "    p1s = 0\n",
    "    p1c = 200\n",
    "    for i in range(25):\n",
    "        p1s, p1c = miniopoly_turn(p1s, p1c)\n",
    "        if p1s == 30:\n",
    "            if jtime >=2:\n",
    "                if p1c <= 0:\n",
    "                    p1c = 0\n",
    "                    bcount+=1\n",
    "                    break\n",
    "            else:\n",
    "                jtime += 1\n",
    "        if p1c < 0:\n",
    "            p1c = 0\n",
    "            #bcount+=1\n",
    "            break\n",
    "print(count)\n",
    "final = float(bcount/count)\n",
    "print('Probability player goes bankrupt after going to jail twice: ', final)"
   ]
  },
  {
   "cell_type": "markdown",
   "metadata": {},
   "source": [
    "**Part E**: Use your code from **Part A** to estimate the probability (either directly or using Bayes' Rule) that a player has gone to jail at least twice, given that the player went bankrupt in the first 25 turns."
   ]
  },
  {
   "cell_type": "code",
   "execution_count": 56,
   "metadata": {},
   "outputs": [
    {
     "name": "stdout",
     "output_type": "stream",
     "text": [
      "('Prob of jail twice: ', 0.348)\n",
      "('Prob of Bankrupt given going to jail twice', 0.17987270973963357)\n"
     ]
    }
   ],
   "source": [
    "#Estimate probability of going to jail twice, given bankruptcy in first 25 turns.\n",
    "count = 0\n",
    "jcount = 0\n",
    "for i in range(10000):\n",
    "    count+= 1\n",
    "    jtime = 0\n",
    "    p1s = 0\n",
    "    p1c = 200\n",
    "    for i in range(25):\n",
    "        p1s, p1c = miniopoly_turn(p1s, p1c)\n",
    "        if p1s == 30:\n",
    "            if jtime >=2:\n",
    "                jcount+=1\n",
    "                break\n",
    "            else:\n",
    "                jtime += 1\n",
    "j = jcount/10000\n",
    "print(\"Prob of jail twice: \", j)\n",
    "t = final*j/Pb\n",
    "print(\"Prob of Bankrupt given going to jail twice\", t)"
   ]
  },
  {
   "cell_type": "markdown",
   "metadata": {},
   "source": [
    "The code above will first calculate the probability of going bankrupt and then will use previously calculated values to find the anwser. "
   ]
  },
  {
   "cell_type": "markdown",
   "metadata": {},
   "source": [
    "***\n",
    "<a id='p5'></a>\n",
    "[Back to top](#top)\n",
    "\n",
    "### [15 points] Problem 5\n",
    "\n",
    "To get published in an academic journal, you have to prove something \"interesting.\"  As a result, most academics begin their research by investigating hypotheses that, all else equal, are unlikely to be true.  Suppose each research project begins with a research *claim* that has a 10% chance of being correct.\n",
    "\n",
    "They then perform a study that satisfies the following two properties:\n",
    "\n",
    "    1) The probability that they correctly *find* an important result given that their *claim* is true is 50%\n",
    "    2) The probability that they incorrectly *find* an important result given that their *claim* is false is 5%\n",
    "\n",
    "If they *find* an important result they are published.  What is the probability that their *claim* was true, given that they were published?"
   ]
  },
  {
   "cell_type": "markdown",
   "metadata": {},
   "source": [
    "**Solution**\n",
    "P(C) = probability correct\n",
    "P(F) = Important result\n",
    "\n",
    "$$P(C \\mid F) = \\frac{P(F \\mid C)*P(C)}{P(F)}$$\n",
    "To find the values I used a tree structure with one branch being .1 and the other being .9 for the claim being correct and not correct. I then used this to calculate the rest of the probabilities. \n",
    "$$\\frac{.5*.1}{.5*.1+.5*.9} = .52$$ or about $$\\frac{10}{19}$$"
   ]
  },
  {
   "cell_type": "code",
   "execution_count": null,
   "metadata": {},
   "outputs": [],
   "source": []
  }
 ],
 "metadata": {
  "kernelspec": {
   "display_name": "Python 3",
   "language": "python",
   "name": "python3"
  },
  "language_info": {
   "codemirror_mode": {
    "name": "ipython",
    "version": 3
   },
   "file_extension": ".py",
   "mimetype": "text/x-python",
   "name": "python",
   "nbconvert_exporter": "python",
   "pygments_lexer": "ipython3",
   "version": "3.5.6"
  }
 },
 "nbformat": 4,
 "nbformat_minor": 2
}
