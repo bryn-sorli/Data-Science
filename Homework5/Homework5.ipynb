{
 "cells": [
  {
   "cell_type": "markdown",
   "metadata": {},
   "source": [
    "<a id='top'></a>\n",
    "\n",
    "# Homework 5: Bootstrap, Hypothesis Testing and Regression\n",
    "***\n",
    "\n",
    "**Name**: Bryn Sorli\n",
    "\n",
    "***\n",
    "\n",
    "This assignment is due on Canvas by **11:59 PM on Friday November 22**. Your solutions to theoretical questions should be done in Markdown/MathJax directly below the associated question.  Your solutions to computational questions should include any specified Python code and results as well as written commentary on your conclusions.  Remember that you are encouraged to discuss the problems with your instructors and classmates, but **you must write all code and solutions on your own**. \n",
    "\n",
    "**NOTES**: \n",
    "\n",
    "- Any relevant data sets should be available under the **Data** module on Canvas, as well as in the zipped folder in which you obtained this assignment. \n",
    "- Do **NOT** load or use any Python packages that are not available in Anaconda 3.6. \n",
    "- Because you can technically evaluate notebook cells in a non-linear order, it's a good idea to do Kernel $\\rightarrow$ Restart & Run All as a check before submitting your solutions.  That way if we need to run your code you will know that it will work as expected. \n",
    "- It is **bad form** to make your reader interpret numerical output from your code.  If a question asks you to compute some value from the data you should show your code output **AND** write a summary of the results in Markdown directly below your code. \n",
    "- You **MUST** leave all of your notebook cells **evaluated** so the graders do not need to re-evaluate them. For 100+ students, this extra time adds up, and makes the graders' lives unnecessarily more difficult.\n",
    "- This probably goes without saying, but... For any question that asks you to calculate something, you **must show all work and justify your answers to receive credit**. Sparse or nonexistent work will receive sparse or nonexistent credit. \n",
    "- Submit only this Jupyter notebook to Canvas.  Do not compress it using tar, rar, zip, etc. \n",
    "\n",
    "---\n",
    "**Shortcuts:**  [Problem 1](#p1) | [Problem 2](#p2) | [Problem 3](#p3) | [Problem 4](#p4) \n",
    "\n",
    "---"
   ]
  },
  {
   "cell_type": "code",
   "execution_count": 73,
   "metadata": {
    "scrolled": true
   },
   "outputs": [],
   "source": [
    "import numpy as np\n",
    "import matplotlib.pyplot as plt\n",
    "import pandas as pd\n",
    "from scipy import stats\n",
    "from datetime import datetime\n",
    "import matplotlib.dates as mdates\n",
    "import math\n",
    "%matplotlib inline"
   ]
  },
  {
   "cell_type": "markdown",
   "metadata": {},
   "source": [
    "---\n",
    "[Back to top](#top)\n",
    "<a id='p1'></a>\n",
    "\n",
    "### [20 points] Problem 1 - Hypothesis Testing: Knowledge Check\n",
    "\n",
    "You are working as a Data Scientist for an internet company. Your co-worker, Bob Dob, is a lovable scamp! Unfortunately, he also makes a lot of mistakes throughout the day as the two of you team up to tackle some inference work regarding your company's customers. In each case, clearly explain why Bob's hypothesis testing setup or conclusion is incorrect."
   ]
  },
  {
   "cell_type": "markdown",
   "metadata": {},
   "source": [
    "**Part A**: Bob has some data on the characteristics of customers that visited the company's website over the previous month.  He wants to perform an analysis on the proportion of last month's website visitors that bought something.  \n",
    "\n",
    "Let $X$ be the random variable describing the number of website visitors who bought something in the previous month, and suppose that the population proportion of visitors who bought something is $p$. Bob is particularly interested to see if the data suggests that more than 15% of website visitors actually buy something.  He decides to perform the test with a null hypothesis of $H_0: \\hat{p} = 0.15$. "
   ]
  },
  {
   "cell_type": "markdown",
   "metadata": {},
   "source": [
    "**Solution**\n",
    "- We are never supposed to use a sample statistic like $\\hat{p}$ in our null hypotheis instead we should use the population statistic p. Therefore it should be written as $H_0 : p = .15$"
   ]
  },
  {
   "cell_type": "markdown",
   "metadata": {},
   "source": [
    "**Part B**: Bob decides instead to do his hypothesis test with a null hypothesis of $H_0: p > 0.15$."
   ]
  },
  {
   "cell_type": "markdown",
   "metadata": {},
   "source": [
    "**Solution**\n",
    "- In general it is incorrect to classify the null hypothesis as values greater than a certain value. This instead should be the alternating hypothesis as we are testing the values greater .15. This should then be written as $H_1 : p > 0.15 $"
   ]
  },
  {
   "cell_type": "markdown",
   "metadata": {},
   "source": [
    "**Part C**: Finally on track with reasonable hypotheses of $H_0: p = 0.15$ and $H_1: p > 0.15$, Bob computes a normalized test-statistic of $z = -1.4$ for the sample proportion and concludes that since $z = -1.4 < 0.05$ there is sufficient statistical evidence at the $\\alpha = 0.05$ (95%) significance level that the proportion of customers who buy something is less than 15%."
   ]
  },
  {
   "cell_type": "markdown",
   "metadata": {},
   "source": [
    "**Solution**\n",
    "- Bob did set out the hypothesis correctly, but has confused the z test statistic with the significance level. We should always compare the p value with the significance level to make a decision. We whould then calculate the P(z < -1.4) = 0.0808. This is greater than the .05 significance level. "
   ]
  },
  {
   "cell_type": "markdown",
   "metadata": {},
   "source": [
    "**Part D**: Bob is again conducting the hypothesis test of $H_0: p = 0.15$ and $H_1: p > 0.15$. He computes a p-value of $0.03$, and thus concludes that there is only a 3% probability that the null hypothesis is true. "
   ]
  },
  {
   "cell_type": "markdown",
   "metadata": {},
   "source": [
    "**Solution**\n",
    "- Bob is wrong in stating that the p value represents the probability the the null hypothesis is true. The p value does not mean anything on its own. It should instead be compared to the significance level used. "
   ]
  },
  {
   "cell_type": "markdown",
   "metadata": {},
   "source": [
    "---\n",
    "[Back to top](#top)\n",
    "<a id='p3'></a>\n",
    "\n",
    "### [25 points] Problem 2 - Naps vs Coffee for Memory? \n",
    "\n",
    "It is estimated that [about 75% of adults](https://www.ncbi.nlm.nih.gov/pmc/articles/PMC4997286/) in the United States drink coffee. Often, coffee is used to replace the need for sleep. It works alright, or so we think. Let's find out, in this exciting homework problem!\n",
    "\n",
    "[One recent study](https://www.sciencedirect.com/science/article/pii/S1388245703002554) investigated the effects of drinking coffee, taking a nap, and having a [\"coffee-nap\"](https://lifehacker.com/naps-vs-coffee-which-is-better-when-youre-exhausted-1730643671) - the practice of drinking some coffee *and then* having a short nap. The study broke participants up into three groups of 15 participants each, where the groups would have a nap, or have a coffee, or have a coffee-nap, then perform a task where their reaction time was measured. In previous experiments the mean reaction time measurement was found to be normally distributed. The reaction time means (milliseconds, ms) and standard deviations for the three groups of participants are given in the table below.\n",
    "\n",
    "$$\n",
    "\\begin{array}{c|c|c|c}\n",
    "\\textrm{Group} & \\textrm{Sample Size} & \\textrm{Mean} & \\textrm{Standard Deviation} \\\\\n",
    "\\hline \n",
    "\\textrm{Coffee+Nap} & 15 & 451.3 & 31.9 \\\\ \n",
    "\\textrm{Coffee} & 15 & 494.2 & 39.6 \\\\ \n",
    "\\textrm{Nap} & 15 & 492.8 & 45.2 \\\\ \n",
    "\\end{array}\n",
    "$$\n",
    "\n",
    "**Part A**: Compute a 97.5% t-confidence interval for the mean reaction time measurement for participants in each of these three groups. (You should find three separate confidence intervals.) Report the results.\n",
    "\n",
    "1. Can you make any conclusions regarding whether coffee, naps or both (coffee-naps) are better for faster reaction times?\n",
    "2. Why did we use a t-distribution?"
   ]
  },
  {
   "cell_type": "code",
   "execution_count": 74,
   "metadata": {},
   "outputs": [
    {
     "name": "stdout",
     "output_type": "stream",
     "text": [
      "Confidence Interval(Coffee+Nap):  [ 430.6298196583792 471.97018034162085 ]\n",
      "Confidence Interval(Coffee):  [ 468.54046578281555 519.8595342171844 ]\n",
      "Confidence Interval(Nap):  [ 463.5118447824056 522.0881552175944 ]\n"
     ]
    }
   ],
   "source": [
    "n = 15\n",
    "t_val = stats.t.ppf((1-(.025/2)), n-1)\n",
    "mean_cn = 451.3\n",
    "std_cn = 31.9\n",
    "upper = mean_cn+(t_val*(std_cn/np.sqrt(n)))\n",
    "lower = mean_cn-(t_val*(std_cn/np.sqrt(n)))\n",
    "print(\"Confidence Interval(Coffee+Nap): \", \"[\", lower, upper, \"]\")\n",
    "\n",
    "mean_c = 494.2\n",
    "std_c = 39.6\n",
    "upper = mean_c+(t_val*(std_c/np.sqrt(n)))\n",
    "lower = mean_c-(t_val*(std_c/np.sqrt(n)))\n",
    "print(\"Confidence Interval(Coffee): \", \"[\", lower, upper, \"]\")\n",
    "\n",
    "mean_n = 492.8\n",
    "std_n = 45.2\n",
    "upper = mean_n+(t_val*(std_n/np.sqrt(n)))\n",
    "lower = mean_n-(t_val*(std_n/np.sqrt(n)))\n",
    "print(\"Confidence Interval(Nap): \", \"[\", lower, upper, \"]\")"
   ]
  },
  {
   "cell_type": "markdown",
   "metadata": {},
   "source": [
    "**Solution**\n",
    "The formula for a Confidence Interval for a t distribution:\n",
    "$$\n",
    "\\bar{X} \\pm t_{\\frac{\\alpha}{2},n-1}*\\frac{s}{\\sqrt{n}}\n",
    "$$\n",
    "For Coffee-Nap, 97.5% confidence interval is:\n",
    "$$\n",
    "451.3 \\pm t_{\\frac{.025}{2},14}*\\frac{31.9}{\\sqrt{15}}\n",
    "$$\n",
    "$$\n",
    "[430.63 , 471.97]\n",
    "$$\n",
    "For Coffee, 97.5% confidence interval is:\n",
    "$$\n",
    "494.2 \\pm t_{\\frac{.025}{2},14}*\\frac{39.6}{\\sqrt{15}}\n",
    "$$\n",
    "$$\n",
    "[468.54, 519.86]\n",
    "$$\n",
    "For Nap, 97.5% confidence interval is:\n",
    "$$\n",
    "492.8 \\pm t_{\\frac{.025}{2},14}*\\frac{45.2}{\\sqrt{15}}\n",
    "$$\n",
    "$$\n",
    "[463.512, 522.088]\n",
    "$$\n",
    "\n",
    "1. Since the intervals are overlapping we can not make any conclusions about better reaction times. \n",
    "\n",
    "2. We use a t-disctribution because sample size is less than 30(n = 15). The mean reaction time measurement is normally distributed. "
   ]
  },
  {
   "cell_type": "markdown",
   "metadata": {},
   "source": [
    "**Part B**: Use an appropriate hypothesis test to determine if there sufficient evidence, at the $\\alpha = 0.025$ significance level, to conclude that taking a nap promotes faster reaction time than drinking coffee.  Be sure to clearly explain the test that you're doing and state all hypotheses. Do all computations in Python, and report results."
   ]
  },
  {
   "cell_type": "code",
   "execution_count": 75,
   "metadata": {},
   "outputs": [
    {
     "name": "stdout",
     "output_type": "stream",
     "text": [
      "T-Stat:  0.09022936362055636\n",
      "T-value:  2.1447866879169273\n"
     ]
    }
   ],
   "source": [
    "tstat = (mean_c - mean_n)/np.sqrt(((std_n**2)/n)+((std_c**2)/n))\n",
    "print(\"T-Stat: \", tstat)\n",
    "tval = (stats.t.ppf(1-(.025), n-1))\n",
    "print(\"T-value: \", tval)"
   ]
  },
  {
   "cell_type": "markdown",
   "metadata": {},
   "source": [
    "**Solution**\n",
    "- The null hypothesis is that the mean reaction time of taking a nap is the same as drinking coffee. \n",
    " $$H_0 : \\mu_C = \\mu_N$$\n",
    "- The alternate hypothesis is the mean reaction time of taking a nap is less than that for drinking coffee. \n",
    "$$H_1 : \\mu_N < \\mu_C$$\n",
    "\n",
    "- To determine if we should reject the null hypothesis, we can use \n",
    "$$t_{stat} = \\frac{(\\bar{C} - \\bar{N}) - (\\mu_{C} - \\mu_{N})}{\\sqrt{\\frac{s_C^2}{n} + \\frac{s_N^2}{n}}}$$\n",
    "\n",
    "$$t_{stat} = \\frac{(494.2-492.8) - 0}{\\sqrt{\\frac{39.6^2}{15} + \\frac{45.2^2}{15}}} =  0.09$$\n",
    "\n",
    "- And compare to\n",
    "\n",
    "$$t_{\\alpha,n-1} = t_{.025,14} = 2.145$$\n",
    "\n",
    "- Because the computed $t_{stat}$ is nowhere near as extreme as $t_{\\alpha,n-1}$\n",
    "\n",
    "$$t_{stat} < t_{\\alpha,n-1}$$\n",
    "- Therefore there is not sufficent evidence to reject the null hypotheiss so we can't concldude anything abut difference between reaction times.  "
   ]
  },
  {
   "cell_type": "markdown",
   "metadata": {},
   "source": [
    "**Part C**: Use an appropriate hypothesis test to determine if there is sufficient evidence, at the $\\alpha = 0.025$ significance level, to conclude that taking a coffee-nap promotes faster reaction time than only drinking coffee, or only having a nap.  Be sure to clearly explain the test that you're doing and state all hypotheses. Do all computations in Python, and report results."
   ]
  },
  {
   "cell_type": "code",
   "execution_count": 76,
   "metadata": {},
   "outputs": [
    {
     "name": "stdout",
     "output_type": "stream",
     "text": [
      "t stat:  3.2674426640629344\n",
      "t value:  2.1447866879169273\n"
     ]
    }
   ],
   "source": [
    "# coffee-nap versus coffee\n",
    "t_stat = (mean_c - mean_cn) /np.sqrt(((std_cn**2)/n)+((std_c**2)/n))\n",
    "print(\"t stat: \", t_stat)\n",
    "tval = stats.t.ppf(1-(0.025),n-1)\n",
    "print(\"t value: \", tval)"
   ]
  },
  {
   "cell_type": "markdown",
   "metadata": {},
   "source": [
    "Null hypothesis: \n",
    "$$\n",
    "H_0: \\mu_C - \\mu_{CN} = 0 \n",
    "$$\n",
    "Alternate hypothesis: \n",
    "$$\n",
    "H_a: \\mu_C - \\mu_{CN} > 0 \n",
    "$$\n",
    "To know if we should reject the null hypothesis, we will use \n",
    "$$\n",
    "t_{stat} = \\frac{(\\bar{C} - \\bar{CN}) - (\\mu_{C} - \\mu_{CN})}{\\sqrt{\\frac{s_C^2}{n} + \\frac{s_{CN}^2}{n}}}\n",
    "$$\n",
    "$$\n",
    "$$\n",
    "$$\n",
    "t_{stat} = \\frac{(494.2-451.3) - 0}{\\sqrt{\\frac{39.6^2}{15} + \\frac{31.9^2}{15}}} =  3.267\n",
    "$$\n",
    "And compare to\n",
    "$$\n",
    "t_{\\alpha,n-1} = t_{.025,14} = 2.145\n",
    "$$\n",
    "Because the computed $t_{stat}$ is more extreme than $t_{\\alpha,n-1}$\n",
    "$$\n",
    "t_{stat} > t_{\\alpha,n-1}\n",
    "$$\n",
    "This means that there is sufficent evidence to reject the null hypotheis. We can therefore conlcude that taking a coffee+nap promotes faster reaction time. "
   ]
  },
  {
   "cell_type": "code",
   "execution_count": 77,
   "metadata": {},
   "outputs": [
    {
     "name": "stdout",
     "output_type": "stream",
     "text": [
      "t stat is:  2.9052726242057902\n",
      "t value is:  2.1447866879169273\n"
     ]
    }
   ],
   "source": [
    "# coffee-nap versus nap\n",
    "t_stat = (mean_n - mean_cn) /np.sqrt(((std_cn**2)/n)+((std_n**2)/n))\n",
    "print(\"t stat is: \", t_stat)\n",
    "tval = stats.t.ppf(1-(0.025),n-1)\n",
    "print(\"t value is: \", tval)"
   ]
  },
  {
   "cell_type": "markdown",
   "metadata": {},
   "source": [
    "Null hypothesis: \n",
    "$$\n",
    "H_0: \\mu_N - \\mu_{CN} = 0 \n",
    "$$\n",
    "Alternate hypothesis: \n",
    "$$\n",
    "H_a: \\mu_N - \\mu_{CN} > 0 \n",
    "$$\n",
    "To know if we should reject the null hypothesis, we will use \n",
    "$$\n",
    "t_{stat} = \\frac{(\\bar{N} - \\bar{CN}) - (\\mu_{N} - \\mu_{CN})}{\\sqrt{\\frac{s_N^2}{n} + \\frac{s_{CN}^2}{n}}}\n",
    "$$\n",
    "$$\n",
    "$$\n",
    "$$\n",
    "t_{stat} = \\frac{(492.8-451.3) - 0}{\\sqrt{\\frac{45.2^2}{15} + \\frac{31.9^2}{15}}} =  2.905\n",
    "$$\n",
    "And compare to\n",
    "$$\n",
    "t_{\\alpha,n-1} = t_{.025,14} = 2.145\n",
    "$$\n",
    "Because the computed $t_{stat}$ is more extreme than $t_{\\alpha,n-1}$\n",
    "$$\n",
    "t_{stat} > t_{\\alpha,n-1}\n",
    "$$\n",
    "This means that there is sufficient evidence to reject the null hypothesis so we can conclude that taking a coffee nap promotes faster reaction times that only taking a nap. "
   ]
  },
  {
   "cell_type": "markdown",
   "metadata": {},
   "source": [
    "**Part D**: Compute a 97.5% confidence interval for the standard deviation of reaction time for coffee-nap takers. Do all computations in Python, and report the results."
   ]
  },
  {
   "cell_type": "code",
   "execution_count": 78,
   "metadata": {},
   "outputs": [
    {
     "name": "stdout",
     "output_type": "stream",
     "text": [
      "Number of sampled:  15\n",
      "Sample Standart Deviation s:  31.9\n",
      "Chi squared for upper bound:  4.8732174934154235\n",
      "Chi squared for lower bound:  28.421939542462283\n",
      "CI: [ 22.389 , 54.069 ]\n"
     ]
    }
   ],
   "source": [
    "alpha = .025\n",
    "chi_Up = stats.chi2.ppf((alpha/2), n-1)\n",
    "chi_Low = stats.chi2.ppf((1-(alpha/2)),n-1)\n",
    "print(\"Number of sampled: \", n)\n",
    "print(\"Sample Standart Deviation s: \", std_cn)\n",
    "print(\"Chi squared for upper bound: \", chi_Up)\n",
    "print(\"Chi squared for lower bound: \", chi_Low)\n",
    "print(\"CI: [\", round(math.sqrt((n-1)*(std_cn**2)/chi_Low),3), \",\", round(math.sqrt((n-1)*(std_cn**2)/chi_Up),3), \"]\")"
   ]
  },
  {
   "cell_type": "markdown",
   "metadata": {},
   "source": [
    "**Solution**\n",
    "- For standard devialtion, $\\sigma$ falls on the confidence interval:\n",
    "$$\n",
    "CI = [\\sqrt{\\frac{(n-1)s^2}{\\chi_{\\frac{\\alpha}{2}, n-1}^2}},\\sqrt{\\frac{(n-1)s^2}{\\chi_{1-\\frac{\\alpha}{2}, n-1}^2}}]\n",
    "$$\n",
    "As given by the problem:\n",
    "$$\n",
    "n = 15, \\ \\ s^2 = 31.9 , \\ \\ \\chi_{\\frac{\\alpha}{2}, n-1}^2 = 4.873, \\ \\ \\chi_{1-\\frac{\\alpha}{2}, n-1}^2 = 28.422\n",
    "$$\n",
    "Using the values that we know\n",
    "$$\n",
    "CI = [\\sqrt{\\frac{14*31.9^2}{28.422}},\\sqrt{\\frac{14*31.9^2}{4.873}}]\n",
    "$$\n",
    "$$\n",
    "$$\n",
    "$$\n",
    "CI = [22.389, 54.069]\n",
    "$$"
   ]
  },
  {
   "cell_type": "markdown",
   "metadata": {},
   "source": [
    "---\n",
    "[Back to top](#top)\n",
    "<a id='p4'></a>\n",
    "\n",
    "### [25 points] Problem 3 - Bad Science for Fun and Profit \n",
    "\n",
    "[Data Dredging](https://en.wikipedia.org/wiki/Data_dredging) and [p-hacking](https://www.explainxkcd.com/wiki/index.php/882:_Significant) are umbrella terms for the dangerous practice of automatically testing a large number of hypotheses on the entirety or subsets of a single dataset in order to find statistically significant results. In this exercise we will focus on the idea of testing hypotheses on subsets of a single data set.  \n",
    "\n",
    "Nefaria Octopain has landed her first data science internship at an aquarium.  Her primary summer project has been to design and test a new feeding regimen for the aquarium's octopus population. To test her regimen, her supervisors have allowed her to deploy her new feeding regimen to 4 targeted octopus subpopulations of 40 octopuses each, every day, for a month. \n",
    "\n",
    "The effectiveness of the new diet is measured simply by the rate at which the food is consumed, which is simply defined to be the _proportion_ of octopuses that eat the food (POOTEF). The aquarium's standard octopus diet has a POOTEF of $0.90$.  Nefaria is hoping to land a permanent position at the aquarium when she graduates, so she's **really** motivated to show her supervisors that the POOTEF of her new diet regimen is a (statistically) significant improvement over their previous diet. \n",
    "\n",
    "The data from Nefaria's summer experiment can be found in `pootef.csv`. Load this dataset as a Pandas DataFrame. "
   ]
  },
  {
   "cell_type": "code",
   "execution_count": 79,
   "metadata": {},
   "outputs": [
    {
     "data": {
      "text/html": [
       "<div>\n",
       "<style scoped>\n",
       "    .dataframe tbody tr th:only-of-type {\n",
       "        vertical-align: middle;\n",
       "    }\n",
       "\n",
       "    .dataframe tbody tr th {\n",
       "        vertical-align: top;\n",
       "    }\n",
       "\n",
       "    .dataframe thead th {\n",
       "        text-align: right;\n",
       "    }\n",
       "</style>\n",
       "<table border=\"1\" class=\"dataframe\">\n",
       "  <thead>\n",
       "    <tr style=\"text-align: right;\">\n",
       "      <th></th>\n",
       "      <th>Group</th>\n",
       "      <th>Date</th>\n",
       "      <th>Fed</th>\n",
       "      <th>Ate</th>\n",
       "    </tr>\n",
       "  </thead>\n",
       "  <tbody>\n",
       "    <tr>\n",
       "      <th>1</th>\n",
       "      <td>1</td>\n",
       "      <td>Oct  1 2018</td>\n",
       "      <td>40</td>\n",
       "      <td>37</td>\n",
       "    </tr>\n",
       "    <tr>\n",
       "      <th>2</th>\n",
       "      <td>1</td>\n",
       "      <td>NaN</td>\n",
       "      <td>40</td>\n",
       "      <td>37</td>\n",
       "    </tr>\n",
       "    <tr>\n",
       "      <th>3</th>\n",
       "      <td>1</td>\n",
       "      <td>NaN</td>\n",
       "      <td>40</td>\n",
       "      <td>35</td>\n",
       "    </tr>\n",
       "    <tr>\n",
       "      <th>4</th>\n",
       "      <td>1</td>\n",
       "      <td>NaN</td>\n",
       "      <td>40</td>\n",
       "      <td>35</td>\n",
       "    </tr>\n",
       "    <tr>\n",
       "      <th>5</th>\n",
       "      <td>1</td>\n",
       "      <td>Oct  5 2018</td>\n",
       "      <td>40</td>\n",
       "      <td>36</td>\n",
       "    </tr>\n",
       "  </tbody>\n",
       "</table>\n",
       "</div>"
      ],
      "text/plain": [
       "  Group         Date  Fed  Ate\n",
       "1     1  Oct  1 2018   40   37\n",
       "2     1          NaN   40   37\n",
       "3     1          NaN   40   35\n",
       "4     1          NaN   40   35\n",
       "5     1  Oct  5 2018   40   36"
      ]
     },
     "execution_count": 79,
     "metadata": {},
     "output_type": "execute_result"
    }
   ],
   "source": [
    "filepath = \"pootef.csv\"\n",
    "pootef = pd.read_csv(filepath, header=None)\n",
    "pootef = pootef.drop(pootef.index[0])\n",
    "pootef[\"Group\"] = pootef[0]\n",
    "pootef[\"Date\"] = pootef[1]\n",
    "pootef[\"Fed\"] = pd.to_numeric(pootef[2])\n",
    "pootef[\"Ate\"] = pd.to_numeric(pootef[3])\n",
    "pootef = pootef.drop(0, axis=1)\n",
    "pootef = pootef.drop(1, axis=1)\n",
    "pootef = pootef.drop(2, axis=1)\n",
    "pootef = pootef.drop(3, axis=1)\n",
    "pootef.head()"
   ]
  },
  {
   "cell_type": "markdown",
   "metadata": {},
   "source": [
    "**Part A**: State the null and alternate hypotheses that Nefaria should test to see if her new feeding regimen is an improvement over the aquarium's standard feeding regimen with a POOTEF of $0.90$."
   ]
  },
  {
   "cell_type": "markdown",
   "metadata": {},
   "source": [
    "**Solution**\n",
    "- $H_0 = p = .90 $\n",
    "- $H_1 = p > .90 $"
   ]
  },
  {
   "cell_type": "markdown",
   "metadata": {},
   "source": [
    "**Part B**: Complete the function below to test the hypothesis from **Part A** at the $\\alpha = 0.05$ significance level using a p-value test. Is there sufficient evidence for Nefaria to conclude that her feeding regimen is an improvement? "
   ]
  },
  {
   "cell_type": "code",
   "execution_count": 80,
   "metadata": {},
   "outputs": [
    {
     "name": "stdout",
     "output_type": "stream",
     "text": [
      "p value for POOTEF data:  0.30131168747623693\n"
     ]
    }
   ],
   "source": [
    "def z_test(bites, feedings, alpha=0.05):\n",
    "    '''\n",
    "    Function to test H1: p > 0.90 \n",
    "    Returns p-value based on H0: p=0.90 \n",
    "    '''\n",
    "    p_hat = bites.sum()/feedings.sum()\n",
    "    #print('P-Hat: ', p_hat)\n",
    "    \n",
    "    p = .9\n",
    "    n = len(bites)*40\n",
    "    \n",
    "    z = (p_hat - p)/np.sqrt((p*(1-p))/n)\n",
    "    pvalue = 1-stats.norm.cdf(z)\n",
    "    return pvalue \n",
    "\n",
    "print(\"p value for POOTEF data: \", z_test(pootef[\"Ate\"], pootef[\"Fed\"]))"
   ]
  },
  {
   "cell_type": "markdown",
   "metadata": {},
   "source": [
    "**Solution**\n",
    "- The goal is to code a function that returns a p-value based on the null hypothesis that $p_0=.90$\n",
    "$$\n",
    "$$\n",
    "We can use\n",
    "$$\n",
    "Z_{stat} = \\frac{\\hat{p} - p_0}{\\sqrt{\\frac{p_0(1-p_0)}{n}}}\n",
    "$$\n",
    "$\\hat{p} = 0.9022 $ is the sample proportion computed from our data\n",
    "$$\n",
    "$$\n",
    "$n = 124*40 = 4960 $ for all 124 trails of 40 feedings\n",
    "- We would reject the null hypothesis if p less than or equal to alpha. For the pootef data we computed a p = .3 and alpha equals .05 which means there is not sufficent evidence to conclude that Nefaria's feeding regime worked. "
   ]
  },
  {
   "cell_type": "markdown",
   "metadata": {},
   "source": [
    "**Part C**: Bummer, Nefaria thinks. This is the part where she decides to resort to some questionable science.  Maybe there is a reasonable _subset_ of the data for which her alternative hypothesis is supported?  Can she find it?  Can she come up for a reasonable justification for why this subset of the data should be considered while the rest should be discarded? \n",
    "\n",
    "Here are the **rules**: Nefaria cannot modify the original data (e.g. by adding nonexistent feedings or bites to certain groups or days) because her boss will surely notice.  Instead she needs to find a subset of the data for which her hypothesis is supported by a p-value test at the $\\alpha = 0.05$ significance level _and_ be able to explain to her supervisors why her sub-selection of the data is reasonable.  \n",
    "\n",
    "In addition to your explanation of why your successful subset of the data is potentially reasonable, be sure to thoroughly explain the details of the tests that you perform and show all of your Python computation. "
   ]
  },
  {
   "cell_type": "code",
   "execution_count": 81,
   "metadata": {},
   "outputs": [
    {
     "name": "stdout",
     "output_type": "stream",
     "text": [
      "p value for Group 1 POOTEF data:  0.5377076760985439\n",
      "p value for Group 2 POOTEF data:  0.011547866308733501\n",
      "p value for Group 3 POOTEF data:  0.6475228469417464\n",
      "p value for Group 4 POOTEF data:  0.7755596672461562\n"
     ]
    }
   ],
   "source": [
    "G1 = pootef[pootef[\"Group\"] == '1']\n",
    "G2 = pootef[pootef[\"Group\"] == '2']\n",
    "G3 = pootef[pootef[\"Group\"] == '3']\n",
    "G4 = pootef[pootef[\"Group\"] == '4']\n",
    "p1 = z_test(G1[\"Ate\"], G1[\"Fed\"])\n",
    "p2 = z_test(G2[\"Ate\"], G2[\"Fed\"])\n",
    "p3 = z_test(G3[\"Ate\"], G3[\"Fed\"])\n",
    "p4 = z_test(G4[\"Ate\"], G4[\"Fed\"])\n",
    "\n",
    "print(\"p value for Group 1 POOTEF data: \", p1)\n",
    "print(\"p value for Group 2 POOTEF data: \", p2)\n",
    "print(\"p value for Group 3 POOTEF data: \", p3)\n",
    "print(\"p value for Group 4 POOTEF data: \", p4)"
   ]
  },
  {
   "cell_type": "markdown",
   "metadata": {},
   "source": [
    "**Solution**\n",
    "Similar to the test used in part B, we use the same Null and Alternative hypothesis, and\n",
    "$$\n",
    "Z_{stat} = \\frac{\\hat{p} - p_0}{\\sqrt{\\frac{p_0(1-p_0)}{n}}}\n",
    "$$\n",
    "$p_0 = 0.90 $ as assumed by the null hypothesis\n",
    "$$\n",
    "$$\n",
    "$\\hat{p} = 0.9194 $ is the sample proportion computed from our group 2 data\n",
    "$$\n",
    "$$\n",
    "$n = 31*40 = 1240 $ for all 31 trails of 40 feedings in group 2 data set\n",
    "\n",
    "For the subset of the data marked as group 2, the p value computed from our function is 0.011 which is less than $\\alpha = 0.05$\n",
    "$$\n",
    "p < \\alpha\n",
    "$$\n",
    "So group 2 is a reasonable subset of the data for which Nefaria's alternative hypothesis is supported.\n",
    "$$\n",
    "$$\n",
    "If we were to just look at group 2 we could conclude that Nefaria's new program is actually effective. In order to justify only sample group 2 Nefaria could bring up saving money as well as being more efficent with her sampling. "
   ]
  },
  {
   "cell_type": "markdown",
   "metadata": {},
   "source": [
    "<br>\n",
    "\n",
    "---\n",
    "[Back to top](#top)\n",
    "<a id='p3'></a>\n",
    "\n",
    "### [30 points] Problem 4 - Simple Linear Regression for Science!\n",
    "\n",
    "From [Google Trends](https://trends.google.com/trends/?geo=US) data, it appears that interest in \"data science\" in the United States has steadily increasing since 2004. Interest is measured relative to the maximum rate of Google searches for that term over the time period (so the maximum is 100). \n",
    "\n",
    "**Part A:** Load up the data in `data_science_interest.csv` into a Pandas DataFrame. Create two new columns:\n",
    "* `Year` should be the year associated with that data point, and\n",
    "* `Month` should be the month (1-12) associated with that data point.\n",
    "\n",
    "Then, make a **scatter plot** (using `pyplot.scatter`) of all of the data points, showing how interest in \"data science\" has evolved over time. Label the x-axis by year, displaying ticks for Janurary of each year between 2004 and 2019. "
   ]
  },
  {
   "cell_type": "code",
   "execution_count": 82,
   "metadata": {},
   "outputs": [
    {
     "data": {
      "image/png": "[encoded data removed]",
      "text/plain": [
       "<Figure size 936x504 with 1 Axes>"
      ]
     },
     "metadata": {
      "needs_background": "light"
     },
     "output_type": "display_data"
    }
   ],
   "source": [
    "filepath = \"data_science_interest.csv\"\n",
    "DS = pd.read_csv(filepath, header=None)\n",
    "\n",
    "DS[\"Date\"]= DS[0]\n",
    "DS[\"Interest\"]= DS[1]\n",
    "DS = DS.drop(0, axis=1)\n",
    "DS = DS.drop(1, axis=1)\n",
    "DS = DS.drop(DS.index[0])\n",
    "\n",
    "\n",
    "year = []\n",
    "month = []\n",
    "for index, row in DS.iterrows():\n",
    "    year.append(datetime.strptime(row[\"Date\"], \"%Y-%m\").year)\n",
    "    month.append(datetime.strptime(row[\"Date\"], \"%Y-%m\").month)   \n",
    "DS[\"Year\"] = year\n",
    "DS[\"Month\"] = month\n",
    "\n",
    "\n",
    "DS[\"Interest\"] = pd.to_numeric(DS[\"Interest\"])\n",
    "DS['DateNum'] = DS['Year'] + DS['Month'] / 12\n",
    "fig, ax = plt.subplots(figsize=(13,7))\n",
    "DS.plot(kind=\"scatter\",ax = ax, rot = 45, x = \"DateNum\", y = \"Interest\", legend=False)\n",
    "plt.xticks(np.arange(2004, 2020, 1.0))\n",
    "ax.yaxis.grid() \n",
    "ax.xaxis.grid() \n",
    "ax.set_ylabel(\"Interest Level\")\n",
    "ax.set_xlabel(\"Date\")\n",
    "ax.set_title(\"Interest in Data Science by Date\")\n",
    "plt.show()"
   ]
  },
  {
   "cell_type": "markdown",
   "metadata": {},
   "source": [
    "**Part B:** These data (and the sea-level data from Homework 4) are a **time series**, where the independent variable is *time* and the dependent quantity is interest in data science. One of the central assumptions of linear regression is that the data are observations generated by some process, independently of one another. With time series data, we need to be careful because there could be some other process affecting the output data. In particular, **annual cycles** are patterns that reoccur each year and are frequently present in time series data. For example, seasonal patterns of weather are annual cycles.\n",
    "\n",
    "To see what kind of effect time has, make a **line plot** (using `pyplot.plot`) of the interest in data science, as a function of time. Again, include all of the data points and, for the x-axis, label only the tick marks associated with January of each year, and be sure to label your axes."
   ]
  },
  {
   "cell_type": "code",
   "execution_count": 83,
   "metadata": {},
   "outputs": [
    {
     "data": {
      "image/png": "[encoded data removed]",
      "text/plain": [
       "<Figure size 1008x576 with 1 Axes>"
      ]
     },
     "metadata": {
      "needs_background": "light"
     },
     "output_type": "display_data"
    }
   ],
   "source": [
    "fig, ax = plt.subplots(figsize=(14,8))\n",
    "DS.plot(ax = ax, rot = 45, x = \"DateNum\", y = \"Interest\", legend=False)\n",
    "ax.yaxis.grid() \n",
    "ax.xaxis.grid() \n",
    "plt.xticks(np.arange(2004, 2020, 1.0))\n",
    "ax.set_ylabel(\"Interest Level\")\n",
    "ax.set_xlabel(\"Date\")\n",
    "ax.set_title(\"Interest in Data Science by Date\")\n",
    "plt.show()"
   ]
  },
  {
   "cell_type": "markdown",
   "metadata": {},
   "source": [
    "**Part C:** Does your plot from Part B suggest that there is some annual cycle to the interest in data science? During which months is interest in data science highest? What about lowest? Justify your answers using your plot, **and** by computing the mean interest in data science for each month. So, compute 12 values and report them in a markdown table. Do **not** just spit out a horizontal list of 12 numbers. That would be yucky to try to read, and we're scientists.\n",
    "\n",
    "What do you think accounts for the increased interest in data science during the fall months?"
   ]
  },
  {
   "cell_type": "code",
   "execution_count": 84,
   "metadata": {},
   "outputs": [
    {
     "name": "stdout",
     "output_type": "stream",
     "text": [
      "Month        Average Interest\n",
      "#####################\n",
      "January      26.62\n",
      "#####################\n",
      "Febraury     25.56\n",
      "#####################\n",
      "March        24.25\n",
      "#####################\n",
      "April        24.69\n",
      "#####################\n",
      "May          23.06\n",
      "#####################\n",
      "June         21.62\n",
      "#####################\n",
      "July         21.0\n",
      "#####################\n",
      "August       26.94\n",
      "#####################\n",
      "September    32.69\n",
      "#####################\n",
      "October      29.44\n",
      "#####################\n",
      "November     27.69\n",
      "#####################\n",
      "December     19.56\n",
      "#####################\n"
     ]
    },
    {
     "data": {
      "image/png": "[encoded data removed]",
      "text/plain": [
       "<Figure size 864x504 with 1 Axes>"
      ]
     },
     "metadata": {
      "needs_background": "light"
     },
     "output_type": "display_data"
    }
   ],
   "source": [
    "months = [\"January  \", \"Febraury \", \"March    \", \"April    \", \"May      \", \"June     \", \"July     \", \"August   \", \"September\", \"October  \", \"November \", \"December \"]\n",
    "monthLabel = [\"Jan\", \"Feb\", \"Mar\", \"Apr\", \"May\", \"June\", \"July\", \"Aug\", \"Sept\", \"Oct\", \"Nov\", \"Dec\"]\n",
    "totals = [0,0,0,0,0,0,0,0,0,0,0,0]\n",
    "for index, row in DS.iterrows():\n",
    "    #Jan\n",
    "    if row[\"Month\"] == 1:\n",
    "        totals[0] = totals[0] + row[\"Interest\"]\n",
    "    #Feb\n",
    "    elif row[\"Month\"] == 2:\n",
    "        totals[1] = totals[1] + row[\"Interest\"]\n",
    "    #Mar\n",
    "    elif row[\"Month\"] == 3:\n",
    "        totals[2] = totals[2] + row[\"Interest\"]\n",
    "    #Apr\n",
    "    elif row[\"Month\"] == 4:\n",
    "        totals[3] = totals[3] + row[\"Interest\"]\n",
    "    #May\n",
    "    elif row[\"Month\"] == 5:\n",
    "        totals[4] = totals[4] + row[\"Interest\"]\n",
    "    #June\n",
    "    elif row[\"Month\"] == 6:\n",
    "        totals[5] = totals[5] + row[\"Interest\"]\n",
    "    #Jul\n",
    "    elif row[\"Month\"] == 7:\n",
    "        totals[6] = totals[6] + row[\"Interest\"]\n",
    "    #Aug\n",
    "    elif row[\"Month\"] == 8:\n",
    "        totals[7] = totals[7] + row[\"Interest\"]\n",
    "    #Sep\n",
    "    elif row[\"Month\"] == 9:\n",
    "        totals[8] = totals[8] + row[\"Interest\"]\n",
    "    #Oct\n",
    "    elif row[\"Month\"] == 10:\n",
    "        totals[9] = totals[9] + row[\"Interest\"]\n",
    "    #Nov\n",
    "    elif row[\"Month\"] == 11:\n",
    "        totals[10] = totals[10] + row[\"Interest\"]\n",
    "    #Dec\n",
    "    elif row[\"Month\"] == 12:\n",
    "        totals[11] = totals[11] + row[\"Interest\"]\n",
    "\n",
    "#Print\n",
    "print(\"Month        Average Interest\")\n",
    "print(\"#####################\")\n",
    "for i in range(12):\n",
    "    totals[i] = round(totals[i]/16,2)\n",
    "    print(months[i], \"  \", totals[i])\n",
    "    print(\"#####################\")\n",
    "\n",
    "#Plot\n",
    "fig, ax = plt.subplots(figsize=(12,7))\n",
    "ax.plot(monthLabel, totals) \n",
    "ax.yaxis.grid() \n",
    "ax.xaxis.grid() \n",
    "ax.set_ylabel(\"Average Interest Rating\")\n",
    "ax.set_xlabel(\"Month\")\n",
    "ax.set_title(\"Average Data Science Interest by Month\")\n",
    "plt.show()"
   ]
  },
  {
   "cell_type": "markdown",
   "metadata": {},
   "source": [
    "**Solution**\n",
    "- It does appear like there is an annual cycle for interest in data science. It can be observed that there are two peaks one near August and the other in January. A possible explanation of this could be academic periods and the fact that both occur at either a new semester or new school year. "
   ]
  },
  {
   "cell_type": "markdown",
   "metadata": {},
   "source": [
    "**Part D:** (Spoiler alert!) Since there seems to be an annual cycle, one of the fundamental assumptions of our simple linear regression model is not satisfied. Namely, it is not the case that the model-data residuals, $\\epsilon_i$, are independent of one another.\n",
    "\n",
    "So, we need to process our data a bit further before fitting a regression model. One way to address this is to take the mean of all the data each year and use for analysis the time series of annual mean interest in data science. Create a new Pandas DataFrame that consists only of two columns:\n",
    "* `year`, and\n",
    "* `interest`, the mean interest in data science from the twelve months in that year."
   ]
  },
  {
   "cell_type": "code",
   "execution_count": 85,
   "metadata": {},
   "outputs": [
    {
     "data": {
      "text/html": [
       "<div>\n",
       "<style scoped>\n",
       "    .dataframe tbody tr th:only-of-type {\n",
       "        vertical-align: middle;\n",
       "    }\n",
       "\n",
       "    .dataframe tbody tr th {\n",
       "        vertical-align: top;\n",
       "    }\n",
       "\n",
       "    .dataframe thead th {\n",
       "        text-align: right;\n",
       "    }\n",
       "</style>\n",
       "<table border=\"1\" class=\"dataframe\">\n",
       "  <thead>\n",
       "    <tr style=\"text-align: right;\">\n",
       "      <th></th>\n",
       "      <th>Year</th>\n",
       "      <th>Interest</th>\n",
       "    </tr>\n",
       "  </thead>\n",
       "  <tbody>\n",
       "    <tr>\n",
       "      <th>0</th>\n",
       "      <td>2004</td>\n",
       "      <td>9.666667</td>\n",
       "    </tr>\n",
       "    <tr>\n",
       "      <th>1</th>\n",
       "      <td>2005</td>\n",
       "      <td>8.583333</td>\n",
       "    </tr>\n",
       "    <tr>\n",
       "      <th>2</th>\n",
       "      <td>2006</td>\n",
       "      <td>7.083333</td>\n",
       "    </tr>\n",
       "    <tr>\n",
       "      <th>3</th>\n",
       "      <td>2007</td>\n",
       "      <td>6.750000</td>\n",
       "    </tr>\n",
       "    <tr>\n",
       "      <th>4</th>\n",
       "      <td>2008</td>\n",
       "      <td>6.750000</td>\n",
       "    </tr>\n",
       "  </tbody>\n",
       "</table>\n",
       "</div>"
      ],
      "text/plain": [
       "   Year  Interest\n",
       "0  2004  9.666667\n",
       "1  2005  8.583333\n",
       "2  2006  7.083333\n",
       "3  2007  6.750000\n",
       "4  2008  6.750000"
      ]
     },
     "execution_count": 85,
     "metadata": {},
     "output_type": "execute_result"
    }
   ],
   "source": [
    "year = [2004, 2005, 2006, 2007, 2008, 2009, 2010, 2011, 2012, 2013, 2014, 2015, 2016, 2017, 2018, 2019]\n",
    "yrs = 2004\n",
    "yrIndex = 0\n",
    "avgInterest = [0,0,0,0,0,0,0,0,0,0,0,0,0,0,0,0]\n",
    "for index, row in DS.iterrows():\n",
    "    if row[\"Year\"] != yrs:\n",
    "        yrs = yrs + 1\n",
    "        yrIndex = yrIndex + 1\n",
    "    avgInterest[yrIndex] = avgInterest[yrIndex] + row[\"Interest\"]\n",
    "for i in range(16):\n",
    "    if i == 15: \n",
    "        avgInterest[i] = avgInterest[i]/11\n",
    "    else:\n",
    "        avgInterest[i] = avgInterest[i]/12\n",
    "    \n",
    "    \n",
    "dftime = pd.DataFrame(list(zip(year, avgInterest)), columns =['Year', 'Interest']) \n",
    "dftime.head()"
   ]
  },
  {
   "cell_type": "markdown",
   "metadata": {},
   "source": [
    "**Part E:** Perform a simple linear regression with `year` as the feature and `interest` as the response (mean annual interest in data science).  Report the estimated regression model in the form $Y = \\alpha + \\beta x$. Do all computations in Python. \n",
    "\n",
    "Then make a scatter plot of the mean annual interest in data science as a function of year, and overlay the estimated regression line. Label your axes and provide a legend."
   ]
  },
  {
   "cell_type": "code",
   "execution_count": 86,
   "metadata": {},
   "outputs": [
    {
     "name": "stdout",
     "output_type": "stream",
     "text": [
      "Estimated Regression Model is: Y = -9453.464 + 4.712 *x\n"
     ]
    },
    {
     "data": {
      "image/png": "[encoded data removed]",
      "text/plain": [
       "<Figure size 1008x576 with 1 Axes>"
      ]
     },
     "metadata": {
      "needs_background": "light"
     },
     "output_type": "display_data"
    }
   ],
   "source": [
    "fig, ax = plt.subplots(nrows=1, ncols=1, figsize=(14,8))\n",
    "ax.scatter(dftime[\"Year\"], dftime[\"Interest\"], color=\"forestgreen\", alpha=0.75, s=100, label = 'Interest')\n",
    "bhat, ahat, rval, pval, stderr = stats.linregress(dftime[\"Year\"], dftime[\"Interest\"])\n",
    "print(\"Estimated Regression Model is: Y =\", round(ahat,3), \"+\", round(bhat,3), \"*x\")\n",
    "ax.plot(dftime[\"Year\"], ahat + bhat*dftime[\"Year\"], color=\"royalblue\", lw=3, label = \"Regression\");\n",
    "plt.xticks(np.arange(2004, 2020, 1.0))\n",
    "ax.yaxis.grid() \n",
    "ax.xaxis.grid() \n",
    "ax.set_ylabel(\"Average Interest Rating\")\n",
    "ax.set_xlabel(\"Year\")\n",
    "ax.set_title(\"Average Data Science Interest by Year\")\n",
    "ax.legend()\n",
    "plt.show()"
   ]
  },
  {
   "cell_type": "markdown",
   "metadata": {},
   "source": [
    "**Part F**: Give a physical interpretation of the coefficient $\\hat{\\beta}$, estimated from your model. Include addressing whether the relationship between time and interest in data science is positive or negative. Fully justify your responses."
   ]
  },
  {
   "cell_type": "markdown",
   "metadata": {},
   "source": [
    "**Solution**\n",
    "- The beta for the simple linear regression was computed and is, $\\hat{\\beta} $ = 4.555\n",
    "- This value represents the slope of the regression line. As a physical interpretation beta hat predicts that the average intererest in data science increases by 4.555 each year. It is a postive relationship since both axis values are increasing. "
   ]
  },
  {
   "cell_type": "markdown",
   "metadata": {},
   "source": [
    "**Part G**: What interest in data science does your simple linear regression model predict in the year 2025? What about in 2050? What are potential drawbacks to this model for interest in data science (think about the minimium and maximum values for the data)? \n",
    "\n",
    "**Note**: From Google Trends Documentation, the \"interest\" variable is defined as: \"Interest represent search interest relative to the highest point on the chart for the given region and time. A value of 100 is the peak popularity for the term. A value of 50 means that the term is half as popular. A score of 0 means there was not enough data for this term.\""
   ]
  },
  {
   "cell_type": "code",
   "execution_count": 87,
   "metadata": {},
   "outputs": [
    {
     "name": "stdout",
     "output_type": "stream",
     "text": [
      "Predicted average interest 2025:  86.95\n",
      "Predicted average interest 2050:  200.825\n"
     ]
    }
   ],
   "source": [
    "print(\"Predicted average interest 2025: \", round(-9136.925 + (4.555 *2025),3))\n",
    "print(\"Predicted average interest 2050: \", round(-9136.925 + (4.555 *2050),3))"
   ]
  },
  {
   "cell_type": "markdown",
   "metadata": {},
   "source": [
    "**Solution**\n",
    "- A problem occurs with this model at the reaches of the data as it can reach a rating higher than 100 as well as a value less than 0. This means that without bounds the linear regression model will enter an area with impossible values. "
   ]
  },
  {
   "cell_type": "markdown",
   "metadata": {},
   "source": [
    "**Part H:** Compute a 80% confidence interval for the slope parameter, $\\beta$, ***by hand***. This means performing all calculations yourself in Python, as opposed to calling a simple Python function that gives you the result. Why is this a confidence interval for $\\beta$ and not for $\\hat{\\beta}$?"
   ]
  },
  {
   "cell_type": "code",
   "execution_count": 88,
   "metadata": {},
   "outputs": [
    {
     "name": "stdout",
     "output_type": "stream",
     "text": [
      "Confidence interval at 80% level:  [3.672, 5.753]\n"
     ]
    }
   ],
   "source": [
    "alpha = .2\n",
    "n = 15\n",
    "CI = [round((bhat -  (stats.t.ppf(1-(alpha/2), n-2) * stderr)),3), round((bhat +  (stats.t.ppf(1-(alpha/2),  n-2) * stderr)),3)]\n",
    "print(\"Confidence interval at 80% level: \", CI)\n",
    "#year_with_constant = sm.add_constant(dftime[\"year\"].astype(int))\n",
    "#results = sm.OLS(dftime['Interest'], year_with_constant).fit()"
   ]
  },
  {
   "cell_type": "markdown",
   "metadata": {},
   "source": [
    "It is a confidence interval for $\\beta$ because we are using $\\hat{\\beta}$ to calculate the confidence interval. $\\hat{\\beta}$ represents the sample beta and we are trying to find the true beta value with the confidence interval. "
   ]
  },
  {
   "cell_type": "markdown",
   "metadata": {
    "collapsed": true
   },
   "source": [
    "**Part I:** What proportion of the variation in mean annual interest in data science is explained by your linear regression model?"
   ]
  },
  {
   "cell_type": "code",
   "execution_count": 89,
   "metadata": {},
   "outputs": [
    {
     "name": "stdout",
     "output_type": "stream",
     "text": [
      "Proportion of the variation in the mean for my SLR:  0.7276189056683344\n"
     ]
    }
   ],
   "source": [
    "SSE = 0\n",
    "SST = 0\n",
    "ybar = dftime[\"Interest\"].mean()\n",
    "for index, row in dftime.iterrows():\n",
    "    yhat = ahat + (bhat * row[\"Year\"])\n",
    "    y = row[\"Interest\"]\n",
    "    SSE = SSE + ((y - yhat)**2)\n",
    "    SST = SST + ((y-ybar)**2)\n",
    "    \n",
    "R2 = 1-(SSE/SST)\n",
    "print(\"Proportion of the variation in the mean for my SLR: \", R2)"
   ]
  },
  {
   "cell_type": "markdown",
   "metadata": {},
   "source": [
    "**Solution**\n",
    "Coefficient of determination $R^2$ represents the proportion of the variation in mean that can be explained by the model.\n",
    "$$\n",
    "R^2 = 1-\\frac{SSE}{SST}\n",
    "$$\n",
    "Sum of squared errors:\n",
    "$$\n",
    "SSE = \\sum_{i = 1}^n (y_i - \\hat{y_i})^2\n",
    "$$\n",
    "Sum of squares total:\n",
    "$$\n",
    "SST = \\sum_{i = 1}^n (\\hat{y_i} - \\bar{y})^2\n",
    "$$"
   ]
  },
  {
   "cell_type": "code",
   "execution_count": null,
   "metadata": {},
   "outputs": [],
   "source": []
  }
 ],
 "metadata": {
  "kernelspec": {
   "display_name": "Python 3",
   "language": "python",
   "name": "python3"
  },
  "language_info": {
   "codemirror_mode": {
    "name": "ipython",
    "version": 3
   },
   "file_extension": ".py",
   "mimetype": "text/x-python",
   "name": "python",
   "nbconvert_exporter": "python",
   "pygments_lexer": "ipython3",
   "version": "3.5.6"
  }
 },
 "nbformat": 4,
 "nbformat_minor": 2
}
