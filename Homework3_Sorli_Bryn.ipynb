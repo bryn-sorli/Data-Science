{
 "cells": [
  {
   "cell_type": "markdown",
   "metadata": {},
   "source": [
    "<a id='top'></a>\n",
    "\n",
    "# Homework 3: Normals and More Simulation\n",
    "***\n",
    "\n",
    "**Name**: Bryn Sorli\n",
    "\n",
    "***\n",
    "\n",
    "This assignment is due on Canvas by **MIDNIGHT on Friday October 25**. Your solutions to theoretical questions should be done in Markdown directly below the associated question.  Your solutions to computational questions should include any specified Python code and results as well as written commentary on your conclusions.  Remember that you are encouraged to discuss the problems with your classmates, but **you must write all code and solutions on your own**.\n",
    "\n",
    "**NOTES**: \n",
    "\n",
    "- Any relevant data sets should be available under the **Data** module on Canvas. To make life easier on the graders if they need to run your code, do not change the relative path names here. Instead, move the files around on your computer.\n",
    "- If you're not familiar with typesetting math directly into Markdown then by all means, do your work on paper first and then typeset it later.  Remember that there is a [reference guide](https://math.meta.stackexchange.com/questions/5020/mathjax-basic-tutorial-and-quick-reference) linked on Canvas on writing math in Markdown. **All** of your written commentary, justifications and mathematical work should be in Markdown.\n",
    "- Because you can technically evaluate notebook cells is a non-linear order, it's a good idea to do Kernel $\\rightarrow$ Restart & Run All as a check before submitting your solutions.  That way if we need to run your code you will know that it will work as expected. \n",
    "- It is **bad form** to make your reader interpret numerical output from your code.  If a question asks you to compute some value from the data you should show your code output **AND** write a summary of the results in Markdown directly below your code. \n",
    "- This probably goes without saying, but... For any question that asks you to calculate something, you **must show all work and justify your answers to receive credit**. Sparse or nonexistent work will receive sparse or nonexistent credit. \n",
    "\n",
    "---\n",
    "**Shortcuts:**  [Problem 1](#p1) | [Problem 2](#p2) | [Problem 3](#p3) | [Problem 4](#p4) | \n",
    "\n",
    "---"
   ]
  },
  {
   "cell_type": "code",
   "execution_count": 34,
   "metadata": {},
   "outputs": [],
   "source": [
    "import pandas as pd\n",
    "import numpy as np\n",
    "from scipy import stats\n",
    "import matplotlib.pylab as plt\n",
    "%matplotlib inline"
   ]
  },
  {
   "cell_type": "markdown",
   "metadata": {},
   "source": [
    "<br>\n",
    "\n",
    "---\n",
    "<a id='p1'></a>\n",
    "[Back to top](#top)\n",
    "\n",
    "<img src=\"https://media.daysoftheyear.com/20171223112636/hedgehog-day1.jpg\" style=\"width: 500px;\"/>\n",
    "\n",
    "\n",
    "### [25 points] Problem 1\n",
    "\n",
    "Suppose you are modeling the probability of observing various levels of cuteness in hedgehogs you encounter.  Let $X$ be a random variable representing the observed cuteness, which is *obviously* nonnegative and has units of deci*awws*. You decide to use the following pdf for $X$:\n",
    "\n",
    "$$\n",
    "f(x) = \\begin{cases}\n",
    "         c \\ x \\ e^{\\left(-\\frac{x^2}{6}\\right)} & 0 \\leq x < \\infty \\\\\n",
    "         0                           & \\text{otherwise}\n",
    "       \\end{cases}\n",
    "$$\n",
    "where $c$ is some normalizing constant.\n",
    "\n",
    "**Part A**: Determine the value of $c$ such that $f(x)$ is a valid probability density function. Then, make a plot of the probability density function for hedgehog cuteness, $f(x)$. Be sure to label your plot and axes!"
   ]
  },
  {
   "cell_type": "markdown",
   "metadata": {},
   "source": [
    "**Solution**\n",
    "$$ f(x) = cxe^{\\frac{-x^{2}}{6}}$$\n",
    "To calculate the value of c we solve the integral equal to 1.\n",
    "$$ \\int_{0}^{\\infty}( cxe^{\\frac{-x^{2}}{6}})dx = 1$$\n",
    "$$ c* \\int_{0}^{\\infty}(e^{\\frac{-1}{6}x^{2}}x^{2-1})dx$$\n",
    "Using the above form with a previosly defined relationship:\n",
    "$$\\int_{0}^{\\infty}(e^{-ax^{2}}x^{n-1})dx = \\frac{\\sqrt{\\frac{n}{2}}}{2a^{\\frac{n}{2}}}$$\n",
    "We get that:\n",
    "$$ 1 = c*\\frac{\\sqrt{\\frac{2}{2}}}{2\\frac{1}{6}^{\\frac{2}{2}}}$$\n",
    "Therefore c = $\\frac{1}{3}$"
   ]
  },
  {
   "cell_type": "code",
   "execution_count": 35,
   "metadata": {},
   "outputs": [
    {
     "data": {
      "image/png": "[encoded data removed]",
      "text/plain": [
       "<Figure size 432x288 with 1 Axes>"
      ]
     },
     "metadata": {
      "needs_background": "light"
     },
     "output_type": "display_data"
    }
   ],
   "source": [
    "from scipy.stats import norm\n",
    "import math\n",
    "x= np.linspace(0,10,100)\n",
    "func = (1/3)*x*(np.exp(-(x**2)/6))\n",
    "#plt.plot(x, norm.pdf((1/3)*x*(np.exp(-(x**2)/6))))\n",
    "plt.plot(func)\n",
    "plt.show()\n",
    "\n",
    "#x = np.arange(-10,50)\n",
    "#plt.plot((1/3)*x*(np.exp((-(x**2)/6))))\n",
    "#plt.show()"
   ]
  },
  {
   "cell_type": "markdown",
   "metadata": {},
   "source": [
    "**Part B**: Compute *by hand* the cumulative density (cdf) function $F(x)$ for $X$."
   ]
  },
  {
   "cell_type": "markdown",
   "metadata": {},
   "source": [
    "$$ \\int_{0}^{n}( \\frac{1}{3}*xe^{\\frac{-x^{2}}{6}})dx $$\n",
    "$$ - \\int_{0}^{n} -\\frac{2}{6}*x*e^{\\frac{-x^{2}}{6}}dx $$\n",
    "We then get:\n",
    "$$ - e^{\\frac{-x^{2}}{6}}\\Big|_0^n $$\n",
    "$$ - e^{\\frac{-x^{2}}{6}} + 1 $$\n",
    "$$ 1 - e^{\\frac{-x^{2}}{6}} $$\n",
    "Therefore the cdf for values between 0< x< $\\infty$ f(x) = $ 1 - e^{\\frac{-x^{2}}{6}} $ otherwise f(x) = 0"
   ]
  },
  {
   "cell_type": "markdown",
   "metadata": {},
   "source": [
    "**Part C:**  Use the cdf you derived in **Part B** to calculate the median ($\\tilde{x}$) cuteness of all hedgehogs."
   ]
  },
  {
   "cell_type": "markdown",
   "metadata": {},
   "source": [
    "**Solution**\n",
    "The median of a distribution can be found by setting f(n) = .5 and solving for n.\n",
    "$$ 1 - e^{\\frac{-n^{2}}{6}} = \\frac{1}{2} $$\n",
    "$$  \\frac{1}{2} = e^{\\frac{-n^{2}}{6}} $$\n",
    "$$  ln(\\frac{1}{2}) = \\frac{-n^{2}}{6} $$\n",
    "<br>\n",
    "$$ n = \\sqrt{-6* ln(.5)}$$\n",
    "$$ n = 2.04 $$\n",
    "The median is 2.04 for this distribution"
   ]
  },
  {
   "cell_type": "code",
   "execution_count": null,
   "metadata": {},
   "outputs": [],
   "source": []
  },
  {
   "cell_type": "markdown",
   "metadata": {},
   "source": [
    "**Part D**: It is a well-known fact that any hedgehog whose cuteness exceeds 3 deciawws is **totes adorbz**. Use the cdf you computed in **Part B** to find the probability that any arbitrary hedgehog that you observe is totes adorbz."
   ]
  },
  {
   "cell_type": "markdown",
   "metadata": {},
   "source": [
    "$ P(x > 3) =  1 - p(x \\leq 3) $<br>\n",
    "\n",
    "$P(x > 3) =  1 - 1 + e^{\\frac{-3^{2}}{6}} $<br>\n",
    "$P(x > 3) = e^{\\frac{-3^{2}}{6}} $<br>\n",
    "$P(x > 3) =  1 - 1 + e^{\\frac{-3^{2}}{6}} $<br>\n",
    "$P(x > 3) = e^{\\frac{-9}{6}} = .223$"
   ]
  },
  {
   "cell_type": "code",
   "execution_count": null,
   "metadata": {},
   "outputs": [],
   "source": []
  },
  {
   "cell_type": "markdown",
   "metadata": {},
   "source": [
    "**Part E:** You have been painstakingly collecting data on hedgehogs all over town, and the cuteness is damn near overwhelming. Suppose you sample 6 hedgehogs, and the cuteness of any given hedgehog is independent of the cuteness of all other hedgehogs. What is the probability that at least 2 but not all of them are totes adorbz?"
   ]
  },
  {
   "cell_type": "markdown",
   "metadata": {},
   "source": [
    "The probability that at least two can be derived using the binomial equation:\n",
    "$$ P(X>1) = P(2) =  \\binom{6}{2}*(.233)^{2}*(.223)^{4} = .272$$\n",
    "We then repeat this step for P(3),P(4),P(5),P(6) getting = .401"
   ]
  },
  {
   "cell_type": "code",
   "execution_count": null,
   "metadata": {},
   "outputs": [],
   "source": []
  },
  {
   "cell_type": "markdown",
   "metadata": {
    "collapsed": true
   },
   "source": [
    "<br>\n",
    "\n",
    "---\n",
    "<a/ id='p2'></a>\n",
    "[Back to top](#top)\n",
    "### [25 points] Problem 2 - Monte Carlo Estimation of Definite Integrals\n",
    "\n",
    "One really cool application of random variables is using them to approximate integrals/area under a curve.  This method of approximating integrals is used frequently in computational science to approximate really difficult integrals that we never want to do by hand.  In this exercise you'll figure out how we can do this in practice and test your method on a relatively simple integral. "
   ]
  },
  {
   "cell_type": "markdown",
   "metadata": {
    "collapsed": true
   },
   "source": [
    "**Part A.**  Let $X$ be a random variable representing how delicious a pie you bake is, as measured by the **Deliciousness Index** (DI).  Suppose the probability density function for $X$ is described by the raised cosine probability density function:\n",
    "\n",
    "$$\n",
    "f(x) = \\begin{cases}\n",
    "         \\dfrac{1}{\\pi}\\left(\\cos{(x)} + 1\\right) & 0 \\leq x \\leq \\pi \\\\\n",
    "         0                           & \\text{otherwise}\n",
    "         \\end{cases}\n",
    "$$\n",
    "\n",
    "A Deliciousness Index of $\\pi$ is the most delicious pie you can ever hope to create, and a DI of $0$ is the most disgusting pie you have ever tasted.  \n",
    "\n",
    "Compute **by hand**, the integral of $f(x)$ for $0 \\leq x \\leq \\dfrac{\\pi}{2}$.  Write a sentence or two to interpret your result physically, in the context of this problem set-up."
   ]
  },
  {
   "cell_type": "markdown",
   "metadata": {
    "collapsed": true
   },
   "source": [
    "**Solution**\n",
    "Given the PDF we can solve the integral:\n",
    "$$ \\int_{0}^{\\frac{\\pi}{2}} \\frac{1}{\\pi}(cos(x)+1) dx$$\n",
    "$$ \\frac{1}{\\pi}(sin(x) + 1)\\Big|_0^\\frac{\\pi}{2}$$\n",
    "$$ \\int_{0}^{\\frac{\\pi}{2}} f(x) dx =  \\frac{1}{\\pi}+\\frac{\\pi}{2} $$\n",
    "The result represents the probability that the random variable x lies between 0 and $\\pi$/2"
   ]
  },
  {
   "cell_type": "markdown",
   "metadata": {},
   "source": [
    "**Part B.** Suppose we sample a random variable $X$ from $U(0,\\frac{\\pi}{2})$ and another random variable $Y$ from $U(0,1)$ and think of them as $x$- and $y$-coordinates of a point in the box $[0,\\frac{\\pi}{2}] \\times [0,1]$.  If we compute the ratio of points that fall under the curve $f(x)$ to the total points sampled, what does this value estimate? "
   ]
  },
  {
   "cell_type": "markdown",
   "metadata": {
    "collapsed": true
   },
   "source": [
    "The ratio of points that lie under the curve f(x) = $\\frac{1}{\\pi}(cos(x) + 1) $ from 0 to $\\pi $/2 and the total points sampled in $[0, \\frac{\\pi}{2}] x [0, 1] $ gives the probability that a points lies below the curve.  "
   ]
  },
  {
   "cell_type": "markdown",
   "metadata": {},
   "source": [
    "**Part C.** How could we modify the process outlined in **Part B** so that our estimator estimates the value of the desired integral?  If you need inspiration, check out the in-class notebook on Stochastic Simulation (#4), specifically, the exercise where we estimated $\\pi$!"
   ]
  },
  {
   "cell_type": "markdown",
   "metadata": {
    "collapsed": true
   },
   "source": [
    "**Solution**\n",
    "To obtain the value of the integral we can multiply the probability in part B by $\\frac{\\pi}{2}$. "
   ]
  },
  {
   "cell_type": "markdown",
   "metadata": {},
   "source": [
    "**Part D.** Complete the function `integrate` below to compute an approximation to the definition integral $\\int_0^{\\text{ub}} f(x)dx$.  Your function should take as arguments:\n",
    "1. `num_samples` -- the number of points to sample,\n",
    "2. `ub` -- a number between $0$ and $\\pi$ that is the upper bound of the integral, and\n",
    "3. `isPlot` -- a Boolean flag for whether or not to display a plot of the results.\n",
    "\n",
    "Your function should return an approximation of the definite integral by sampling $X$ from $U(0,\\text{ub})$ and $Y$ from $U(0,1)$. For each random draw $(X,Y)$, define the random variable $Z$ that represents whether or not the sampled $Y$ value is less than $f(X)$ for the corresponding $X$ value.\n",
    "\n",
    "Your function should perform three tasks: \n",
    "\n",
    "1. return the estimate of the value of the integral,\n",
    "2. return the sample variance of the random variable $Z$ being simulated, using the np.var function, and\n",
    "3. if `isPlot` is True, plot the curve $f(x)$ as well as the location of the points $(X,Y)$, colored according to whether they fall above or below the curve. "
   ]
  },
  {
   "cell_type": "code",
   "execution_count": 36,
   "metadata": {},
   "outputs": [],
   "source": [
    "# GIVEN CODE - Do not change the inputs/outputs or your code will fail unit tests and auto-grading!\n",
    "def integrate(num_samples, ub, isPlot):\n",
    "    \n",
    "    #-----------------------------------------\n",
    "    # your code goes here!  replace this junk:\n",
    "    #estimate = 0\n",
    "    #sample_var = 1\n",
    "    x = np.random.uniform(0, ub, num_samples)\n",
    "    y = np.random.uniform(0, 1, num_samples)\n",
    "    fx = [(1/math.pi)*(np.cos(i) + 1) for i in x]\n",
    "    xtick = np.linspace(0, ub, num_samples)\n",
    "    ytick = [(1/math.pi)*(np.cos(i) + 1) for i in xtick]\n",
    "    xunder = []\n",
    "    yunder = []\n",
    "    xabove = []\n",
    "    yabove = []\n",
    "    for i in range(0, len(x)):\n",
    "        if y[i] <= fx[i]:\n",
    "            xunder.append(x[i])\n",
    "            yunder.append(y[i])\n",
    "        else:\n",
    "            xabove.append(x[i])\n",
    "            yabove.append(y[i])\n",
    "    if isPlot == True:\n",
    "        plt.plot(xtick, ytick, 'k')\n",
    "        plt.plot(xunder,yunder, 'rd')\n",
    "        plt.plot(xabove, yabove, 'bd')\n",
    "        plt.show()\n",
    "    #temp = len(yunder)\n",
    "    #print(temp)\n",
    "    estimate = (len(xunder)/num_samples)*(ub)\n",
    "    #print(estimate)\n",
    "    sample_var = np.var(xunder)\n",
    "    #-----------------------------------------\n",
    "    \n",
    "    return estimate, sample_var"
   ]
  },
  {
   "cell_type": "markdown",
   "metadata": {},
   "source": [
    "**Part E.** Write your own small unit tests!\n",
    "\n",
    "First, what should your `integrate` function output if you plug in `ub=0`? Set that as `int_0_to_0` below.\n",
    "\n",
    "Second, what should your `integrate` function output if you plug in `ub=`$\\pi$? Set that as `int_0_to_pi` below.\n",
    "\n",
    "Then, you can execute the cell below to run two sanity checks. Write out **in math** (like, a definite integral) what each of these two tests is checking and **why** that is a reasonable sanity check.\n",
    "\n",
    "If these two assertions run without fail, then things seem to be working okay. Note that the upper endpoint test is stochastic, so if it fails, try running it a few times. If it fails a lot, then things are probably going wrong."
   ]
  },
  {
   "cell_type": "code",
   "execution_count": 37,
   "metadata": {},
   "outputs": [],
   "source": [
    "int_0_to_0  = 0# fill this in!\n",
    "int_0_to_pi = 1# this one too!\n",
    "\n",
    "\n",
    "#---------------------------------------\n",
    "# DO NOT EDIT THIS CELL BELOW HERE\n",
    "#---------------------------------------\n",
    "assert integrate(1000, 0, False)[0]==int_0_to_0, \"Error: lower endpoint test failing\"\n",
    "assert math.isclose(integrate(10000, np.pi, False)[0],int_0_to_pi,abs_tol=0.03), \"Error: upper endpoint test failing\""
   ]
  },
  {
   "cell_type": "code",
   "execution_count": null,
   "metadata": {},
   "outputs": [],
   "source": []
  },
  {
   "cell_type": "markdown",
   "metadata": {},
   "source": [
    "**Part F.** Run your simulation with `isPlot=True` and `ub=`$\\frac{\\pi}{2}$ for 1,000 samples so we can see your plot. Then, run your simulation (with `isPlot=False`) with at least 10,000 samples and estimate the value of the given integral. Be sure to leave your cells evaluated for the graders! Does your estimate agree with the exact value of the integral you computed in **Part A**? "
   ]
  },
  {
   "cell_type": "code",
   "execution_count": 38,
   "metadata": {},
   "outputs": [
    {
     "data": {
      "image/png": "[encoded data removed]",
      "text/plain": [
       "<Figure size 432x288 with 1 Axes>"
      ]
     },
     "metadata": {
      "needs_background": "light"
     },
     "output_type": "display_data"
    },
    {
     "name": "stdout",
     "output_type": "stream",
     "text": [
      "(0.8199556825869361, 0.19321775575938158)\n"
     ]
    }
   ],
   "source": [
    "integrate(1000, math.pi/2, True)\n",
    "print(integrate(10000, math.pi/2, False))"
   ]
  },
  {
   "cell_type": "markdown",
   "metadata": {
    "collapsed": true
   },
   "source": [
    "<br>\n",
    "\n",
    "---\n",
    "<a/ id='p3'></a>\n",
    "[Back to top](#top)\n",
    "### [25 points] Problem 3 - Mmmm... Donuts...\n",
    "\n",
    "<img src=\"http://astrokentico.s3.amazonaws.com/rojakdaily/media/1nichoras/homer%20simpson%20krispy%20kreme/main.jpg?ext=.jpg\" style=\"width:300px;\"/>\n",
    "\n",
    "You bring many donuts (or _doughnuts_, if you're into that) to work to share with your coworkers at the Boulder Nuclear Power Planet. But due to the high levels of radiation there, they must be inspected for safety. In particular, if the mean level of radiation in a sample from your batch of donuts is above [195 mSv (millisievert)](#rad), then they are deemed unsafe and you must throw the whole batch away.\n",
    "\n",
    "You know that historically donuts at the power plant have, on average, 180 mSv of radiation, with a standard deviation of 65 mSv. To test the donut radiation levels, you take the donut receipt and pick every fifth donut off it, and sample the radiation levels of those donuts. You end up sampling the radiation levels of 49 donuts out of the batch. Assume that your donuts follow the same distribution as that of the historical donuts."
   ]
  },
  {
   "cell_type": "markdown",
   "metadata": {},
   "source": [
    "**Part A.** What is the probability that a donut batch is deemed unsafe?  You should at the very least set up and justify your calculation by hand (in Markdown/Mathjax), before executing any calculations in Python."
   ]
  },
  {
   "cell_type": "markdown",
   "metadata": {},
   "source": [
    "**Solution**<br>\n",
    "P(x>195) = P(z > $\\frac{195-180}{\\frac{65}{\\sqrt{49}}})$<br>\n",
    "P(Z>1.62) = .052"
   ]
  },
  {
   "cell_type": "code",
   "execution_count": null,
   "metadata": {},
   "outputs": [],
   "source": []
  },
  {
   "cell_type": "markdown",
   "metadata": {},
   "source": [
    "**Part B.** Yikes! Seems like those donuts might be dangerous, but you really do not want to throw away donuts that frequently, so you propose to store the donuts in a lead-lined donut box. But lead also is not very good for your health, so you are motivated to use the least amount of lead possible. What is the maximum mean amount of radiation $\\mu$ for our donuts to have such that the probability that we will throw donuts out due to safety concerns is at most 0.02?\n",
    "\n",
    "Calculate this **by hand**, using Python only to perform arithmetic operations and compute critical values of a standard normal random variable."
   ]
  },
  {
   "cell_type": "markdown",
   "metadata": {},
   "source": [
    "**Solution**\n",
    "P = .02 \n",
    "Therefore we will have a z score of 2.05 using the z table and the python function stats.norm.ppf. Therefore we can solve to the mean amount using the equation:\n",
    "$$\\frac{195-u}{\\frac{65}{\\sqrt{49}}} = 2.0537$$\n",
    "$$u= 175.96$$"
   ]
  },
  {
   "cell_type": "code",
   "execution_count": 39,
   "metadata": {},
   "outputs": [
    {
     "name": "stdout",
     "output_type": "stream",
     "text": [
      "2.0537489106318225\n"
     ]
    }
   ],
   "source": [
    "z = stats.norm.ppf(1-.02)\n",
    "print(z)"
   ]
  },
  {
   "cell_type": "markdown",
   "metadata": {},
   "source": [
    "**Part C.**  Your supervisor at the plant decides that serving up donuts in a lead-lined box is a bad idea. Fair enough.\n",
    "\n",
    "But she is still imposing the requirement that the probability of a batch of donuts being rejected must be less than 0.02. However, she knows a differnat bakery that might be the solution. At Johnny's Super Consistent Baked Goods Emporium all the donuts are exactly the same in size, which means they are closer to being exactly the same in radiation content (less deviation). Suppose the mean and sample size are at their original values of $\\mu = 190$ mSv and $n = 49$ mSv. What is the largest standard deviation to satisfy this requirement?\n",
    "\n",
    "Calculate this **by hand**, using Python only to perform arithmetic operations and compute critical values of a standard normal random variable."
   ]
  },
  {
   "cell_type": "markdown",
   "metadata": {},
   "source": [
    "**Solution**<br>\n",
    "We know that z = 2.0537 and since we know the z value and the variance has remained the same we can calculate mu. \n",
    "$$\\frac{195-180}{\\frac{\\sigma}{\\sqrt{49}}} = 2.0537$$\n",
    "$$\\frac{\\sigma}{7} = \\frac{15}{2.0537}$$\n",
    "$$\\sigma = 51.1260$$\n",
    "Therefore the minimum standard deviation given mu and n is 51.13. "
   ]
  },
  {
   "cell_type": "code",
   "execution_count": 40,
   "metadata": {},
   "outputs": [
    {
     "name": "stdout",
     "output_type": "stream",
     "text": [
      "51.126016163143056\n"
     ]
    }
   ],
   "source": [
    "std = 7*(195-180)/z\n",
    "print(std)"
   ]
  },
  {
   "cell_type": "markdown",
   "metadata": {},
   "source": [
    "**Part D:** Since donuts of differant diameters absorb differant amounts of radiation it is easy to model the standard deviation of radiation content in terms of the standard deviation in donut size. Assume the function $RD$ below takes in the standard deviation in millimeters of donut diameter $(\\sigma_d)$, and gives the radiation deviation in mSv.\n",
    "\n",
    "$\\begin{align}\n",
    "    RD(\\sigma_d) = \\frac{5^{\\sigma_d} \\times 1mSv}{6mm}\n",
    "\\end{align}$\n",
    "\n",
    "Johnny's bakes according to the following $\\textit{\"mathmatically\"}$ correct donut size:\n",
    "\n",
    "<img src=\"http://www.conquermaths.com/news/images/decinfo.jpg\" style=\"width:300px;\"/>\n",
    "\n",
    "So they strive for a donut diameter of 72 - 82 mm, with less than 5mm of standard deviation. However, we're not taking their word for it. We've taken a sample of 36 donuts from Johnny's to determine if their low standard deviation satisfies our requirement of less than $0.02$ chance that we throw away our donuts. The observed standard deviation in donut size was 2.8mm. Assume that the mean radiation remains unchanged from the other donuts. Do Johnny's donuts satisfy our requirement of less than $0.02$ chance that we throw them away? "
   ]
  },
  {
   "cell_type": "markdown",
   "metadata": {},
   "source": [
    "**Solution**\n",
    "- To calculate the probability that the donuts are unsafe we can calculate the probability that the doughnuts are safe then subtract that from one. \n",
    "$$1 - P(\\bar{x} \\leq 195) $$\n",
    "\n",
    "$$1 - P(\\frac{\\bar{x}-180}{\\frac{15.1}{6}} \\leq \\frac{195-180}{\\frac{15.1}{6}}) $$\n",
    "\n",
    "$$1 - P(z \\leq \\frac{15}{\\frac{15.1}{6}}) = 1.2579 * 10^{-9}$$\n",
    "- Yes I believe that the doughnuts do satsify the requirment to not be thrown away. "
   ]
  },
  {
   "cell_type": "code",
   "execution_count": 41,
   "metadata": {},
   "outputs": [
    {
     "name": "stdout",
     "output_type": "stream",
     "text": [
      "1.257858817105273e-09\n"
     ]
    }
   ],
   "source": [
    "temp = (5**(2.8))/6\n",
    "v = stats.norm.cdf((15)/(temp/6))\n",
    "print(1 - v)"
   ]
  },
  {
   "cell_type": "markdown",
   "metadata": {
    "collapsed": true
   },
   "source": [
    "**Part D.** Can you think of any potential issues with using a normal distribution to model the radiation content of our donuts?"
   ]
  },
  {
   "cell_type": "markdown",
   "metadata": {},
   "source": [
    "**Solution**\n",
    "- One major problem could be the variablity in doughnut size, since for normal we are judging how closely the data is packed around the mean changes in size could yield a high variability in results as different sized doughnuts absorb different amounts of radiation. "
   ]
  },
  {
   "cell_type": "markdown",
   "metadata": {},
   "source": [
    "<br>\n",
    "\n",
    "---\n",
    "<a/ id='p4'></a>\n",
    "[Back to top](#top)\n",
    "\n",
    "##  [25 points] Problem 4 - CDF Inversion Sampling\n",
    "\n",
    "In notebook 12, we looked at one method many pieces of statistical software use to turn pseudorandom numbers coming from the $U(0,1)$ distribution into those with a normal distribution.  In this problem we examine another such method.\n",
    "\n",
    "### a) Simulating an Exponential\n",
    "#### i ) The exponential distribution has pdf $f(x)= \\lambda e^{-\\lambda x}$ for $x\\ge 0$.  Use the following markdown cell to compute by hand the cdf of the exponential."
   ]
  },
  {
   "cell_type": "markdown",
   "metadata": {},
   "source": [
    "**Solution**<br>\n",
    "$$ \\int_{0}^{x} \\lambda e^{-\\lambda w} dw$$\n",
    "$$ - e^{-\\lambda w} \\Big|_0^x$$\n",
    "$$ 1 -  e^{-\\lambda x} for x > 0$$"
   ]
  },
  {
   "cell_type": "markdown",
   "metadata": {},
   "source": [
    "#### ii) The cdf is a function that takes x-values (or times, in the case of the exponential) and returns probabilities as the y-values.  Specifically, it returns the probability $P(X \\leq x)$.  Find the *inverse* of this function, that takes as input probabilities and outputs times."
   ]
  },
  {
   "cell_type": "markdown",
   "metadata": {},
   "source": [
    "$$1 -  e^{-\\lambda x} = y$$\n",
    "$$1 -  e^{-\\lambda y} = x$$\n",
    "$$e^{-\\lambda y} = 1-x$$\n",
    "$$-\\lambda y = ln(1-x)$$\n",
    "$$y = \\frac{ln(1-x)}{-\\lambda}$$"
   ]
  },
  {
   "cell_type": "markdown",
   "metadata": {},
   "source": [
    "\n",
    "#### iii) Simulate 1000 random $U(0,1)$ variables.  Since these are numbers in $[0,1]$, we could think of them as random *probabilities*.  Plug them into the function you found in ii), then plot a histogram of the results.  Overlay the theoretical density of the exponential.  For each of these, use $\\lambda=1/4$."
   ]
  },
  {
   "cell_type": "code",
   "execution_count": 42,
   "metadata": {},
   "outputs": [
    {
     "data": {
      "text/plain": [
       "[<matplotlib.lines.Line2D at 0x122e8ccf8>]"
      ]
     },
     "execution_count": 42,
     "metadata": {},
     "output_type": "execute_result"
    },
    {
     "data": {
      "image/png": "[encoded data removed]",
      "text/plain": [
       "<Figure size 720x432 with 1 Axes>"
      ]
     },
     "metadata": {
      "needs_background": "light"
     },
     "output_type": "display_data"
    }
   ],
   "source": [
    "import random\n",
    "r = []\n",
    "for i in range(0, 1000):\n",
    "    temp = np.random.uniform(size = 1)\n",
    "    t = (-1)*np.log(1-temp)/(1/4)\n",
    "    r.append(t)\n",
    "data = pd.DataFrame(r)\n",
    "my_bins = range(0,25,1)\n",
    "fig, ax = plt.subplots(figsize=(10,6))\n",
    "data.hist(density = True, ax = ax)\n",
    "ax.set_title(\"Inverse Function\", fontsize = 20)\n",
    "ax.set_xlabel('X values', fontsize = 16)\n",
    "ax.set_ylabel('Y values', fontsize = 16)\n",
    "x = np.arange(0,25)\n",
    "y = ((1/4)*np.e**((-1/4)*x))\n",
    "ax.plot(x, y)\n",
    "#plt.hist(x, density = 'True', alpha = .5)"
   ]
  },
  {
   "cell_type": "markdown",
   "metadata": {},
   "source": [
    "### b) Simulating a new distribution\n",
    "#### i) Consider a continuous random variable given by $f(x)=\\frac{\\sin(x)}{2}$ for $x \\in [0, \\pi]$.  Find the cdf and inverse cdf of X."
   ]
  },
  {
   "cell_type": "markdown",
   "metadata": {},
   "source": [
    "**Solution**\n",
    "- First we solve for the cdf by taking the integral from 0 to x of f(x).\n",
    "$$\\int_{0}^{x} \\frac{sin(w)}{2} dw$$\n",
    "\n",
    "$$-\\frac{cos(w)}{2}\\Big|_0^x$$\n",
    "\n",
    "$$ \\frac{1}{2} - \\frac{cos(x)}{2}$$\n",
    "\n",
    "- Next we solve for the inverse of the cdf. First we put the cdf into a more usable form:\n",
    "$$\\frac{1}{2}(1-cos(x))$$\n",
    "\n",
    "$$\\frac{1}{2}(1-cos(y)) = x$$\n",
    "\n",
    "$$(1-cos(y)) = 2x$$\n",
    "\n",
    "$$cos(y) = 1 - 2x$$\n",
    "\n",
    "$$ f(x) = cos^{-1}(1-2x) $$"
   ]
  },
  {
   "cell_type": "markdown",
   "metadata": {},
   "source": [
    "\n",
    "#### ii) Simulate draws from X by simluating 1000 $U[0,1]$ random variables and plugging them into the inverse cdf you just found.  As in part a), plot a histogram of the random variables against their density function."
   ]
  },
  {
   "cell_type": "code",
   "execution_count": 43,
   "metadata": {},
   "outputs": [
    {
     "data": {
      "text/plain": [
       "[<matplotlib.lines.Line2D at 0x122ef4c18>]"
      ]
     },
     "execution_count": 43,
     "metadata": {},
     "output_type": "execute_result"
    },
    {
     "data": {
      "image/png": "[encoded data removed]",
      "text/plain": [
       "<Figure size 720x432 with 1 Axes>"
      ]
     },
     "metadata": {
      "needs_background": "light"
     },
     "output_type": "display_data"
    }
   ],
   "source": [
    "l = []\n",
    "y = []\n",
    "for i in range(0, 1000):\n",
    "    r = np.random.uniform(size = 1)\n",
    "    t = math.acos(1-2*r)\n",
    "    l.append(t)\n",
    "data = pd.DataFrame(l)\n",
    "my_bins = range(0,4,1)\n",
    "fig, ax = plt.subplots(figsize=(10,6))\n",
    "data.hist(density = True, ax = ax)\n",
    "ax.set_title(\"Inverse Function\", fontsize = 20)\n",
    "ax.set_xlabel('X values', fontsize = 16)\n",
    "ax.set_ylabel('Y values', fontsize = 16)\n",
    "x = np.linspace(0,math.pi, 1000)\n",
    "for i in x:\n",
    "    y.append(math.sin(i)/2)\n",
    "ax.plot(x, y)"
   ]
  },
  {
   "cell_type": "markdown",
   "metadata": {},
   "source": [
    "### c) Generalizing\n",
    "\n",
    "Describe in words how this process might work on a discrete random variable.  You may use the Bernoulli as an example, if you wish."
   ]
  },
  {
   "cell_type": "markdown",
   "metadata": {},
   "source": [
    "**Solution**\n",
    "- Since the Bernoulli trial is just an example of a binomial distribution just where n = 1.  Therefore a single discrete random variable will follow the principles of above just running with counting numbers. This means that instead of being continuous over a distribution the discrete variables are the amounts at specific counting values. "
   ]
  },
  {
   "cell_type": "code",
   "execution_count": null,
   "metadata": {},
   "outputs": [],
   "source": []
  }
 ],
 "metadata": {
  "kernelspec": {
   "display_name": "Python 3",
   "language": "python",
   "name": "python3"
  },
  "language_info": {
   "codemirror_mode": {
    "name": "ipython",
    "version": 3
   },
   "file_extension": ".py",
   "mimetype": "text/x-python",
   "name": "python",
   "nbconvert_exporter": "python",
   "pygments_lexer": "ipython3",
   "version": "3.5.6"
  }
 },
 "nbformat": 4,
 "nbformat_minor": 2
}
